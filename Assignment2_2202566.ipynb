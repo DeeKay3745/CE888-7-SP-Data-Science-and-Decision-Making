{
  "cells": [
    {
      "cell_type": "markdown",
      "metadata": {
        "id": "Q02WreSkG4XJ"
      },
      "source": [
        "<h1> Steps before Pre-processing to collect final Dataset"
      ]
    },
    {
      "cell_type": "markdown",
      "source": [
        "1.unziping"
      ],
      "metadata": {
        "id": "pkLDOeAbvzeH"
      }
    },
    {
      "cell_type": "code",
      "source": [
        "#this code is done on Desktop \n",
        "import os\n",
        "import shutil\n",
        "import multiprocessing\n",
        "\n",
        "MAIN_PATH = '/Users/dhaneshkumarkapadia/Desktop/Decision making/'\n",
        "\n",
        "#shutil.unpack_archive(MAIN_PATH + 'Data.zip', MAIN_PATH + 'Data')\n",
        "shutil.unpack_archive(MAIN_PATH + 'Data/Stress_dataset.zip', MAIN_PATH + 'Data/Stress_dataset')\n",
        "\n",
        "stress_data_path = MAIN_PATH + '/Data/Stress_dataset'\n",
        "\n",
        "cpu_count = int(multiprocessing.cpu_count()/2)\n",
        "print(f'Using {cpu_count} CPUs')\n",
        "\n",
        "new_list = [\n",
        "    (file, sub_file) \n",
        "    for file in os.listdir(stress_data_path) \n",
        "    for sub_file in os.listdir(os.path.join(stress_data_path, file))\n",
        "]\n",
        "\n",
        "def unzip_parallel(file, sub_file):\n",
        "    shutil.unpack_archive(\n",
        "        os.path.join(stress_data_path, file, sub_file), \n",
        "        os.path.join(stress_data_path, file, sub_file[:-4])\n",
        "    )\n",
        "\n",
        "pool = multiprocessing.Pool(cpu_count)\n",
        "results = pool.starmap(unzip_parallel, new_list)\n",
        "pool.close()"
      ],
      "metadata": {
        "id": "44n29aC08n0q"
      },
      "execution_count": null,
      "outputs": []
    },
    {
      "cell_type": "markdown",
      "source": [
        "2.Combining all code"
      ],
      "metadata": {
        "id": "C1eN9HJ68omp"
      }
    },
    {
      "cell_type": "code",
      "source": [
        "# Script to combine all signals into one\n",
        "\n",
        "import os\n",
        "import pandas as pd\n",
        "from random import randint\n",
        "\n",
        "DATA_PATH = '/Users/dhaneshkumarkapadia/Desktop/Decision making/stress_dataset'\n",
        "\n",
        "SAVE_PATH = \"data2\"\n",
        "#os.mkdir(SAVE_PATH)\n",
        "\n",
        "final_columns = {\n",
        "    'ACC': ['id', 'X', 'Y', 'Z', 'datetime'],\n",
        "    'EDA': ['id', 'EDA', 'datetime'],\n",
        "    'HR': ['id', 'HR', 'datetime'],\n",
        "    'TEMP': ['id', 'TEMP', 'datetime'],\n",
        "}\n",
        "\n",
        "names = {\n",
        "    'ACC.csv': ['X', 'Y', 'Z'],\n",
        "    'EDA.csv': ['EDA'],\n",
        "    'HR.csv': ['HR'],\n",
        "    'TEMP.csv': ['TEMP'],\n",
        "}\n",
        "\n",
        "desired_signals = ['ACC.csv', 'EDA.csv', 'HR.csv', 'TEMP.csv']\n",
        "\n",
        "acc = pd.DataFrame(columns=final_columns['ACC'])\n",
        "eda = pd.DataFrame(columns=final_columns['EDA'])\n",
        "hr = pd.DataFrame(columns=final_columns['HR'])\n",
        "temp = pd.DataFrame(columns=final_columns['TEMP'])\n",
        "\n",
        "\n",
        "def generate_random_number(length):\n",
        "    return int(''.join([str(randint(0,10)) for _ in range(length)]))\n",
        "\n",
        "def process_df(df, sub_file,file):\n",
        "    start_timestamp = df.iloc[0,0]\n",
        "    sample_rate = df.iloc[1,0]\n",
        "    new_df = pd.DataFrame(df.iloc[2:].values, columns=df.columns)\n",
        "    new_df['id'] = file[-2:]\n",
        "    new_df['datetime'] = [(start_timestamp + i/sample_rate) for i in range(len(new_df))]\n",
        "    return new_df\n",
        "\n",
        "for file in os.listdir(DATA_PATH):\n",
        "    print(f'Processing {file}')\n",
        "    for sub_file in os.listdir(os.path.join(DATA_PATH, file)):\n",
        "        if not sub_file.endswith(\".zip\"):\n",
        "            for signal in os.listdir(os.path.join(DATA_PATH, file, sub_file)):\n",
        "                if signal in desired_signals:\n",
        "                    df = pd.read_csv(os.path.join(DATA_PATH, file, sub_file, signal), names=names[signal], header=None)\n",
        "                    if not df.empty:\n",
        "                        if signal == 'ACC.csv':\n",
        "                            acc = pd.concat([acc, process_df(df, sub_file,file)])             \n",
        "                        if signal == 'EDA.csv':\n",
        "                            eda = pd.concat([eda, process_df(df, sub_file,file)])\n",
        "                        if signal == 'HR.csv':\n",
        "                            hr = pd.concat([hr, process_df(df, sub_file,file)])\n",
        "                        if signal == 'TEMP.csv':\n",
        "                            temp = pd.concat([temp, process_df(df, sub_file,file)])\n",
        "\n",
        "print('Saving Data ...')\n",
        "acc.to_csv(os.path.join(SAVE_PATH, 'combined_acc.csv'), index=False)\n",
        "eda.to_csv(os.path.join(SAVE_PATH, 'combined_eda.csv'), index=False)\n",
        "hr.to_csv(os.path.join(SAVE_PATH, 'combined_hr.csv'), index=False)\n",
        "temp.to_csv(os.path.join(SAVE_PATH, 'combined_temp.csv'), index=False)"
      ],
      "metadata": {
        "id": "L8jdE-bg-CPN"
      },
      "execution_count": null,
      "outputs": []
    },
    {
      "cell_type": "markdown",
      "source": [
        "3.Merging Code"
      ],
      "metadata": {
        "id": "xv2aOaj2v0eN"
      }
    },
    {
      "cell_type": "code",
      "execution_count": null,
      "metadata": {
        "colab": {
          "base_uri": "https://localhost:8080/"
        },
        "id": "3XI6zb-Xhjkp",
        "outputId": "be4f9fd4-5397-48ba-c1b6-145ff44a677c"
      },
      "outputs": [
        {
          "name": "stdout",
          "output_type": "stream",
          "text": [
            "Reading data ...\n",
            "Merging Data ...\n",
            "Processing 94Processing E4Processing 6BProcessing DFProcessing 5CProcessing 7EProcessing BGProcessing EGProcessing 6DProcessing F5Processing CE\n",
            "Processing 83\n",
            "\n",
            "Processing 15\n",
            "\n",
            "Processing 8BProcessing 7A\n",
            "\n",
            "\n",
            "\n",
            "\n",
            "\n",
            "\n",
            "\n",
            "\n",
            "\n",
            "Saving data ...\n"
          ]
        }
      ],
      "source": [
        "import pandas as pd\n",
        "import os\n",
        "import multiprocessing\n",
        "\n",
        "COMBINED_DATA_PATH = \"/content/drive/MyDrive/data2\"\n",
        "SAVE_PATH = \"/content/drive/MyDrive/data2/3rdstep1\"\n",
        "\n",
        "if COMBINED_DATA_PATH != SAVE_PATH:\n",
        "    os.mkdir(SAVE_PATH)\n",
        "\n",
        "print(\"Reading data ...\")\n",
        "\n",
        "acc, eda, hr, temp = None, None, None, None\n",
        "\n",
        "signals = ['acc', 'eda', 'hr', 'temp']\n",
        "\n",
        "def read_parallel(signal):\n",
        "    df = pd.read_csv(os.path.join(COMBINED_DATA_PATH, f\"combined_{signal}.csv\"), dtype={'id': str})\n",
        "    return [signal, df]\n",
        "\n",
        "pool = multiprocessing.Pool(len(signals))\n",
        "results = pool.map(read_parallel, signals)\n",
        "pool.close()\n",
        "pool.join()\n",
        "\n",
        "for i in results:\n",
        "    globals()[i[0]] = i[1]\n",
        "\n",
        "# Merge data\n",
        "print('Merging Data ...')\n",
        "ids = eda['id'].unique()\n",
        "columns=['X', 'Y', 'Z', 'EDA', 'HR', 'TEMP', 'id', 'datetime']\n",
        "\n",
        "def merge_parallel(id):\n",
        "    print(f\"Processing {id}\")\n",
        "    df = pd.DataFrame(columns=columns)\n",
        "    \n",
        "    acc_id = acc[acc['id'] == id]\n",
        "    eda_id = eda[eda['id'] == id].drop(['id'], axis=1)\n",
        "    hr_id = hr[hr['id'] == id].drop(['id'], axis=1)\n",
        "    temp_id = temp[temp['id'] == id].drop(['id'], axis=1)\n",
        "\n",
        "    df = acc_id.merge(eda_id, on='datetime', how='outer')\n",
        "    df = df.merge(temp_id, on='datetime', how='outer')\n",
        "    df = df.merge(hr_id, on='datetime', how='outer')\n",
        "\n",
        "    df.fillna(method='ffill', inplace=True)\n",
        "    df.fillna(method='bfill', inplace=True)\n",
        "\n",
        "    return df\n",
        "\n",
        "pool = multiprocessing.Pool(len(ids))\n",
        "results = pool.map(merge_parallel, ids)\n",
        "pool.close()\n",
        "pool.join()\n",
        "\n",
        "new_df = pd.concat(results, ignore_index=True)\n",
        "\n",
        "print(\"Saving data ...\")\n",
        "new_df.to_csv(os.path.join(SAVE_PATH, \"merged_data.csv\"), index=False)"
      ]
    },
    {
      "cell_type": "code",
      "execution_count": null,
      "metadata": {
        "colab": {
          "base_uri": "https://localhost:8080/"
        },
        "id": "yLkkXP_7kSgX",
        "outputId": "c69d49bc-587b-4cde-82ef-9d940acbaadc"
      },
      "outputs": [
        {
          "name": "stdout",
          "output_type": "stream",
          "text": [
            "Mounted at /content/drive\n"
          ]
        }
      ],
      "source": [
        "from google.colab import drive\n",
        "drive.mount('/content/drive')"
      ]
    },
    {
      "cell_type": "markdown",
      "source": [
        "4. final labeling"
      ],
      "metadata": {
        "id": "QjhvAC-p8WBx"
      }
    },
    {
      "cell_type": "code",
      "execution_count": null,
      "metadata": {
        "colab": {
          "base_uri": "https://localhost:8080/"
        },
        "id": "Z3XEJXXtkUaA",
        "outputId": "d450ed50-0d51-43b6-900a-813438a8ffc2"
      },
      "outputs": [
        {
          "name": "stdout",
          "output_type": "stream",
          "text": [
            "Reading 1 ...\n",
            "Reading 2 ...\n",
            "Converting ...\n",
            "Labelling ...\n",
            "6D is missing label 1.0 at 2020-06-03 07:00:00 to 2020-06-03 09:00:00\n",
            "BG is missing label 0.0 at 2020-11-05 06:15:00 to 2020-11-05 06:17:00\n",
            "8B is missing label 2.0 at 2020-07-13 16:59:00 to 2020-07-13 17:05:00\n",
            "EG is missing label 2.0 at 2020-11-08 19:30:00 to 2020-11-08 20:00:00BG is missing label 2.0 at 2020-12-07 00:58:00 to 2020-12-07 01:15:00\n",
            "\n",
            "BG is missing label 0.0 at 2020-12-07 01:45:00 to 2020-12-07 02:18:00\n",
            "94 is missing label 1.0 at 2020-05-10 13:06:00 to 2020-05-10 13:38:00\n",
            "94 is missing label 1.0 at 2020-06-24 18:50:00 to 2020-06-24 19:15:00\n",
            "94 is missing label 0.0 at 2020-07-07 17:26:00 to 2020-07-07 17:33:00\n",
            "94 is missing label 0.0 at 2020-07-07 19:47:00 to 2020-07-07 19:53:00\n",
            "5C is missing label 1.0 at 2020-04-15 13:00:00 to 2020-04-15 14:00:00\n",
            "E4 is missing label 2.0 at 2020-06-25 23:19:00 to 2020-06-26 00:19:00\n",
            "5C is missing label 0.0 at 2020-06-12 07:00:00 to 2020-06-12 08:00:00\n",
            "15 is missing label 2.0 at 2020-07-24 19:54:00 to 2020-07-24 20:47:00\n",
            "15 is missing label 0.0 at 2020-07-17 13:31:00 to 2020-07-17 13:40:00\n",
            "15 is missing label 2.0 at 2020-07-17 13:59:00 to 2020-07-17 14:19:00\n",
            "83 is missing label 2.0 at 2020-10-28 08:20:00 to 2020-10-28 08:52:00\n",
            "15 is missing label 2.0 at 2020-07-17 15:15:00 to 2020-07-17 15:18:00\n",
            "15 is missing label 2.0 at 2020-07-17 17:21:00 to 2020-07-17 17:27:00\n",
            "15 is missing label 2.0 at 2020-07-17 18:49:00 to 2020-07-17 19:16:00\n",
            "83 is missing label 0.0 at 2020-10-28 09:44:00 to 2020-10-28 10:05:00\n",
            "15 is missing label 2.0 at 2020-07-17 20:00:00 to 2020-07-17 20:14:00\n",
            "7A is missing label 2.0 at 2020-07-07 19:16:00 to 2020-07-07 19:27:00\n",
            "7A is missing label 2.0 at 2020-07-07 19:50:00 to 2020-07-07 20:09:00\n",
            "7A is missing label 0.0 at 2020-07-07 20:24:00 to 2020-07-07 20:57:00\n",
            "E4 is missing label 2.0 at 2020-07-07 12:36:00 to 2020-07-07 12:55:00\n",
            "E4 is missing label 2.0 at 2020-07-06 12:36:00 to 2020-07-06 12:55:00\n",
            "E4 is missing label 2.0 at 2020-07-07 17:22:00 to 2020-07-07 19:00:00\n",
            "Saving ...\n",
            "Done\n"
          ]
        }
      ],
      "source": [
        "import pandas as pd\n",
        "from datetime import timedelta, datetime\n",
        "import numpy as np\n",
        "import os\n",
        "import multiprocessing\n",
        "\n",
        "# Read Files\n",
        "print(\"Reading 1 ...\")\n",
        "PATH = \"/content/drive/MyDrive/data2/3rdstep1\"\n",
        "\n",
        "\n",
        "df = pd.read_csv(os.path.join(PATH, 'merged_data.csv'), dtype={'id': str})\n",
        "df['datetime'] = pd.to_datetime(df['datetime'].apply(lambda x: x * (10 ** 9)))\n",
        "\n",
        "print(\"Reading 2 ...\")\n",
        "survey_path = '/content/drive/MyDrive/data2/SurveyResults.xlsx'\n",
        "\n",
        "survey_df = pd.read_excel(survey_path, usecols=['ID', 'Start time', 'End time', 'date', 'Stress level'], dtype={'ID': str})\n",
        "survey_df['Stress level'].replace('na', np.nan, inplace=True)\n",
        "survey_df.dropna(inplace=True)\n",
        "\n",
        "survey_df['Start datetime'] =  pd.to_datetime(survey_df['date'].map(str) + ' ' + survey_df['Start time'].map(str))\n",
        "survey_df['End datetime'] =  pd.to_datetime(survey_df['date'].map(str) + ' ' + survey_df['End time'].map(str))\n",
        "survey_df.drop(['Start time', 'End time', 'date'], axis=1, inplace=True)\n",
        "\n",
        "# Convert SurveyResults.xlsx to GMT-00:00\n",
        "print(\"Converting ...\")\n",
        "daylight = pd.to_datetime(datetime(2020, 11, 1, 0, 0))\n",
        "\n",
        "survey_df1 = survey_df[survey_df['End datetime'] <= daylight].copy()\n",
        "survey_df1['Start datetime'] = survey_df1['Start datetime'].apply(lambda x: x + timedelta(hours=5))\n",
        "survey_df1['End datetime'] = survey_df1['End datetime'].apply(lambda x: x + timedelta(hours=5))\n",
        "\n",
        "survey_df2 = survey_df.loc[survey_df['End datetime'] > daylight].copy()\n",
        "survey_df2['Start datetime'] = survey_df2['Start datetime'].apply(lambda x: x + timedelta(hours=6))\n",
        "survey_df2['End datetime'] = survey_df2['End datetime'].apply(lambda x: x + timedelta(hours=6))\n",
        "\n",
        "survey_df = pd.concat([survey_df1, survey_df2], ignore_index=True)\n",
        "# survey_df = survey_df.loc[survey_df['Stress level'] != 1.0]\n",
        "\n",
        "survey_df.reset_index(drop=True, inplace=True)\n",
        "\n",
        "# Label Data\n",
        "print('Labelling ...')\n",
        "ids = df['id'].unique()\n",
        "\n",
        "def parallel(id):\n",
        "    new_df = pd.DataFrame(columns=['X', 'Y', 'Z', 'EDA', 'HR', 'TEMP', 'id', 'datetime', 'label'])\n",
        "\n",
        "    sdf = df[df['id'] == id].copy()\n",
        "    survey_sdf = survey_df[survey_df['ID'] == id].copy()\n",
        "\n",
        "    for _, survey_row in survey_sdf.iterrows():\n",
        "        ssdf = sdf[(sdf['datetime'] >= survey_row['Start datetime']) & (sdf['datetime'] <= survey_row['End datetime'])].copy()\n",
        "\n",
        "        if not ssdf.empty:\n",
        "            ssdf['label'] = np.repeat(survey_row['Stress level'], len(ssdf.index))\n",
        "            new_df = pd.concat([new_df, ssdf], ignore_index=True)\n",
        "        else:\n",
        "            print(f\"{survey_row['ID']} is missing label {survey_row['Stress level']} at {survey_row['Start datetime']} to {survey_row['End datetime']}\")\n",
        "        \n",
        "    return new_df\n",
        "\n",
        "pool = multiprocessing.Pool(len(ids))\n",
        "results = pool.map(parallel, ids)\n",
        "pool.close()\n",
        "pool.join()\n",
        "\n",
        "new_df = pd.concat(results, ignore_index=True)\n",
        "\n",
        "print('Saving ...')\n",
        "new_df.to_csv(os.path.join(PATH, 'merged_data_labeled.csv'), index=False)\n",
        "print('Done')"
      ]
    },
    {
      "cell_type": "markdown",
      "metadata": {
        "id": "6TkqkgRAGzSd"
      },
      "source": [
        "<h1> Pre-processing"
      ]
    },
    {
      "cell_type": "code",
      "execution_count": 1,
      "metadata": {
        "id": "pxY1xTMxviBx"
      },
      "outputs": [],
      "source": [
        "import pandas as pd\n"
      ]
    },
    {
      "cell_type": "code",
      "execution_count": 2,
      "metadata": {
        "id": "Pd0kGkrlvlE-"
      },
      "outputs": [],
      "source": [
        "data = pd.read_csv(\"/content/drive/MyDrive/data2/3rdstep1/merged_data_labeled.csv\", dtype={'id': str})"
      ]
    },
    {
      "cell_type": "code",
      "execution_count": 3,
      "metadata": {
        "colab": {
          "base_uri": "https://localhost:8080/",
          "height": 423
        },
        "id": "c2cwhKyGvqwS",
        "outputId": "600bf947-6d32-409d-ba05-e49c0e2da44c"
      },
      "outputs": [
        {
          "output_type": "execute_result",
          "data": {
            "text/plain": [
              "             X     Y     Z        EDA     HR   TEMP  id  \\\n",
              "0        -72.0  68.0 -38.0  22.903978  90.85  35.73  94   \n",
              "1        -18.0  74.0 -21.0  22.903978  90.85  35.73  94   \n",
              "2        -17.0  69.0 -36.0  22.903978  90.85  35.73  94   \n",
              "3        -27.0  57.0 -20.0  22.903978  90.85  35.73  94   \n",
              "4          7.0  61.0   1.0  22.903978  90.85  35.73  94   \n",
              "...        ...   ...   ...        ...    ...    ...  ..   \n",
              "11509046   2.0 -44.0  45.0   1.542354  76.90  31.65  7A   \n",
              "11509047   2.0 -44.0  45.0   1.542354  76.90  31.65  7A   \n",
              "11509048   2.0 -44.0  45.0   1.542354  76.90  31.65  7A   \n",
              "11509049   2.0 -44.0  45.0   1.542354  76.90  31.65  7A   \n",
              "11509050   2.0 -44.0  45.0   1.544917  76.90  31.67  7A   \n",
              "\n",
              "                               datetime  label  \n",
              "0         2020-05-10 23:55:00.000000000    2.0  \n",
              "1         2020-05-10 23:55:00.031249920    2.0  \n",
              "2         2020-05-10 23:55:00.062500096    2.0  \n",
              "3         2020-05-10 23:55:00.093750016    2.0  \n",
              "4         2020-05-10 23:55:00.124999936    2.0  \n",
              "...                                 ...    ...  \n",
              "11509046  2020-07-07 13:43:59.875000064    2.0  \n",
              "11509047  2020-07-07 13:43:59.906249984    2.0  \n",
              "11509048  2020-07-07 13:43:59.937499904    2.0  \n",
              "11509049  2020-07-07 13:43:59.968750080    2.0  \n",
              "11509050  2020-07-07 13:44:00.000000000    2.0  \n",
              "\n",
              "[11509051 rows x 9 columns]"
            ],
            "text/html": [
              "\n",
              "  <div id=\"df-45ba852d-e92d-4907-8ab6-86cfdb293d89\">\n",
              "    <div class=\"colab-df-container\">\n",
              "      <div>\n",
              "<style scoped>\n",
              "    .dataframe tbody tr th:only-of-type {\n",
              "        vertical-align: middle;\n",
              "    }\n",
              "\n",
              "    .dataframe tbody tr th {\n",
              "        vertical-align: top;\n",
              "    }\n",
              "\n",
              "    .dataframe thead th {\n",
              "        text-align: right;\n",
              "    }\n",
              "</style>\n",
              "<table border=\"1\" class=\"dataframe\">\n",
              "  <thead>\n",
              "    <tr style=\"text-align: right;\">\n",
              "      <th></th>\n",
              "      <th>X</th>\n",
              "      <th>Y</th>\n",
              "      <th>Z</th>\n",
              "      <th>EDA</th>\n",
              "      <th>HR</th>\n",
              "      <th>TEMP</th>\n",
              "      <th>id</th>\n",
              "      <th>datetime</th>\n",
              "      <th>label</th>\n",
              "    </tr>\n",
              "  </thead>\n",
              "  <tbody>\n",
              "    <tr>\n",
              "      <th>0</th>\n",
              "      <td>-72.0</td>\n",
              "      <td>68.0</td>\n",
              "      <td>-38.0</td>\n",
              "      <td>22.903978</td>\n",
              "      <td>90.85</td>\n",
              "      <td>35.73</td>\n",
              "      <td>94</td>\n",
              "      <td>2020-05-10 23:55:00.000000000</td>\n",
              "      <td>2.0</td>\n",
              "    </tr>\n",
              "    <tr>\n",
              "      <th>1</th>\n",
              "      <td>-18.0</td>\n",
              "      <td>74.0</td>\n",
              "      <td>-21.0</td>\n",
              "      <td>22.903978</td>\n",
              "      <td>90.85</td>\n",
              "      <td>35.73</td>\n",
              "      <td>94</td>\n",
              "      <td>2020-05-10 23:55:00.031249920</td>\n",
              "      <td>2.0</td>\n",
              "    </tr>\n",
              "    <tr>\n",
              "      <th>2</th>\n",
              "      <td>-17.0</td>\n",
              "      <td>69.0</td>\n",
              "      <td>-36.0</td>\n",
              "      <td>22.903978</td>\n",
              "      <td>90.85</td>\n",
              "      <td>35.73</td>\n",
              "      <td>94</td>\n",
              "      <td>2020-05-10 23:55:00.062500096</td>\n",
              "      <td>2.0</td>\n",
              "    </tr>\n",
              "    <tr>\n",
              "      <th>3</th>\n",
              "      <td>-27.0</td>\n",
              "      <td>57.0</td>\n",
              "      <td>-20.0</td>\n",
              "      <td>22.903978</td>\n",
              "      <td>90.85</td>\n",
              "      <td>35.73</td>\n",
              "      <td>94</td>\n",
              "      <td>2020-05-10 23:55:00.093750016</td>\n",
              "      <td>2.0</td>\n",
              "    </tr>\n",
              "    <tr>\n",
              "      <th>4</th>\n",
              "      <td>7.0</td>\n",
              "      <td>61.0</td>\n",
              "      <td>1.0</td>\n",
              "      <td>22.903978</td>\n",
              "      <td>90.85</td>\n",
              "      <td>35.73</td>\n",
              "      <td>94</td>\n",
              "      <td>2020-05-10 23:55:00.124999936</td>\n",
              "      <td>2.0</td>\n",
              "    </tr>\n",
              "    <tr>\n",
              "      <th>...</th>\n",
              "      <td>...</td>\n",
              "      <td>...</td>\n",
              "      <td>...</td>\n",
              "      <td>...</td>\n",
              "      <td>...</td>\n",
              "      <td>...</td>\n",
              "      <td>...</td>\n",
              "      <td>...</td>\n",
              "      <td>...</td>\n",
              "    </tr>\n",
              "    <tr>\n",
              "      <th>11509046</th>\n",
              "      <td>2.0</td>\n",
              "      <td>-44.0</td>\n",
              "      <td>45.0</td>\n",
              "      <td>1.542354</td>\n",
              "      <td>76.90</td>\n",
              "      <td>31.65</td>\n",
              "      <td>7A</td>\n",
              "      <td>2020-07-07 13:43:59.875000064</td>\n",
              "      <td>2.0</td>\n",
              "    </tr>\n",
              "    <tr>\n",
              "      <th>11509047</th>\n",
              "      <td>2.0</td>\n",
              "      <td>-44.0</td>\n",
              "      <td>45.0</td>\n",
              "      <td>1.542354</td>\n",
              "      <td>76.90</td>\n",
              "      <td>31.65</td>\n",
              "      <td>7A</td>\n",
              "      <td>2020-07-07 13:43:59.906249984</td>\n",
              "      <td>2.0</td>\n",
              "    </tr>\n",
              "    <tr>\n",
              "      <th>11509048</th>\n",
              "      <td>2.0</td>\n",
              "      <td>-44.0</td>\n",
              "      <td>45.0</td>\n",
              "      <td>1.542354</td>\n",
              "      <td>76.90</td>\n",
              "      <td>31.65</td>\n",
              "      <td>7A</td>\n",
              "      <td>2020-07-07 13:43:59.937499904</td>\n",
              "      <td>2.0</td>\n",
              "    </tr>\n",
              "    <tr>\n",
              "      <th>11509049</th>\n",
              "      <td>2.0</td>\n",
              "      <td>-44.0</td>\n",
              "      <td>45.0</td>\n",
              "      <td>1.542354</td>\n",
              "      <td>76.90</td>\n",
              "      <td>31.65</td>\n",
              "      <td>7A</td>\n",
              "      <td>2020-07-07 13:43:59.968750080</td>\n",
              "      <td>2.0</td>\n",
              "    </tr>\n",
              "    <tr>\n",
              "      <th>11509050</th>\n",
              "      <td>2.0</td>\n",
              "      <td>-44.0</td>\n",
              "      <td>45.0</td>\n",
              "      <td>1.544917</td>\n",
              "      <td>76.90</td>\n",
              "      <td>31.67</td>\n",
              "      <td>7A</td>\n",
              "      <td>2020-07-07 13:44:00.000000000</td>\n",
              "      <td>2.0</td>\n",
              "    </tr>\n",
              "  </tbody>\n",
              "</table>\n",
              "<p>11509051 rows × 9 columns</p>\n",
              "</div>\n",
              "      <button class=\"colab-df-convert\" onclick=\"convertToInteractive('df-45ba852d-e92d-4907-8ab6-86cfdb293d89')\"\n",
              "              title=\"Convert this dataframe to an interactive table.\"\n",
              "              style=\"display:none;\">\n",
              "        \n",
              "  <svg xmlns=\"http://www.w3.org/2000/svg\" height=\"24px\"viewBox=\"0 0 24 24\"\n",
              "       width=\"24px\">\n",
              "    <path d=\"M0 0h24v24H0V0z\" fill=\"none\"/>\n",
              "    <path d=\"M18.56 5.44l.94 2.06.94-2.06 2.06-.94-2.06-.94-.94-2.06-.94 2.06-2.06.94zm-11 1L8.5 8.5l.94-2.06 2.06-.94-2.06-.94L8.5 2.5l-.94 2.06-2.06.94zm10 10l.94 2.06.94-2.06 2.06-.94-2.06-.94-.94-2.06-.94 2.06-2.06.94z\"/><path d=\"M17.41 7.96l-1.37-1.37c-.4-.4-.92-.59-1.43-.59-.52 0-1.04.2-1.43.59L10.3 9.45l-7.72 7.72c-.78.78-.78 2.05 0 2.83L4 21.41c.39.39.9.59 1.41.59.51 0 1.02-.2 1.41-.59l7.78-7.78 2.81-2.81c.8-.78.8-2.07 0-2.86zM5.41 20L4 18.59l7.72-7.72 1.47 1.35L5.41 20z\"/>\n",
              "  </svg>\n",
              "      </button>\n",
              "      \n",
              "  <style>\n",
              "    .colab-df-container {\n",
              "      display:flex;\n",
              "      flex-wrap:wrap;\n",
              "      gap: 12px;\n",
              "    }\n",
              "\n",
              "    .colab-df-convert {\n",
              "      background-color: #E8F0FE;\n",
              "      border: none;\n",
              "      border-radius: 50%;\n",
              "      cursor: pointer;\n",
              "      display: none;\n",
              "      fill: #1967D2;\n",
              "      height: 32px;\n",
              "      padding: 0 0 0 0;\n",
              "      width: 32px;\n",
              "    }\n",
              "\n",
              "    .colab-df-convert:hover {\n",
              "      background-color: #E2EBFA;\n",
              "      box-shadow: 0px 1px 2px rgba(60, 64, 67, 0.3), 0px 1px 3px 1px rgba(60, 64, 67, 0.15);\n",
              "      fill: #174EA6;\n",
              "    }\n",
              "\n",
              "    [theme=dark] .colab-df-convert {\n",
              "      background-color: #3B4455;\n",
              "      fill: #D2E3FC;\n",
              "    }\n",
              "\n",
              "    [theme=dark] .colab-df-convert:hover {\n",
              "      background-color: #434B5C;\n",
              "      box-shadow: 0px 1px 3px 1px rgba(0, 0, 0, 0.15);\n",
              "      filter: drop-shadow(0px 1px 2px rgba(0, 0, 0, 0.3));\n",
              "      fill: #FFFFFF;\n",
              "    }\n",
              "  </style>\n",
              "\n",
              "      <script>\n",
              "        const buttonEl =\n",
              "          document.querySelector('#df-45ba852d-e92d-4907-8ab6-86cfdb293d89 button.colab-df-convert');\n",
              "        buttonEl.style.display =\n",
              "          google.colab.kernel.accessAllowed ? 'block' : 'none';\n",
              "\n",
              "        async function convertToInteractive(key) {\n",
              "          const element = document.querySelector('#df-45ba852d-e92d-4907-8ab6-86cfdb293d89');\n",
              "          const dataTable =\n",
              "            await google.colab.kernel.invokeFunction('convertToInteractive',\n",
              "                                                     [key], {});\n",
              "          if (!dataTable) return;\n",
              "\n",
              "          const docLinkHtml = 'Like what you see? Visit the ' +\n",
              "            '<a target=\"_blank\" href=https://colab.research.google.com/notebooks/data_table.ipynb>data table notebook</a>'\n",
              "            + ' to learn more about interactive tables.';\n",
              "          element.innerHTML = '';\n",
              "          dataTable['output_type'] = 'display_data';\n",
              "          await google.colab.output.renderOutput(dataTable, element);\n",
              "          const docLink = document.createElement('div');\n",
              "          docLink.innerHTML = docLinkHtml;\n",
              "          element.appendChild(docLink);\n",
              "        }\n",
              "      </script>\n",
              "    </div>\n",
              "  </div>\n",
              "  "
            ]
          },
          "metadata": {},
          "execution_count": 3
        }
      ],
      "source": [
        "data"
      ]
    },
    {
      "cell_type": "code",
      "execution_count": 4,
      "metadata": {
        "colab": {
          "base_uri": "https://localhost:8080/",
          "height": 300
        },
        "id": "Ru1I8HjbwBl0",
        "outputId": "4c9cfc40-72f9-4d32-cde5-1455b388cdc8"
      },
      "outputs": [
        {
          "output_type": "execute_result",
          "data": {
            "text/plain": [
              "                  X             Y             Z           EDA            HR  \\\n",
              "count  1.150905e+07  1.150905e+07  1.150905e+07  1.150905e+07  1.150905e+07   \n",
              "mean  -2.823774e+01 -9.091031e-01  2.382449e+01  3.502127e+00  8.576053e+01   \n",
              "std    3.142310e+01  3.343382e+01  2.985317e+01  5.656541e+00  1.419601e+01   \n",
              "min   -1.280000e+02 -1.280000e+02 -1.280000e+02  0.000000e+00  5.100000e+01   \n",
              "25%   -5.200000e+01 -1.900000e+01  4.000000e+00  2.242060e-01  7.672000e+01   \n",
              "50%   -3.300000e+01  1.000000e+00  2.500000e+01  1.157407e+00  8.390000e+01   \n",
              "75%   -1.400000e+01  1.700000e+01  4.900000e+01  4.077436e+00  9.310000e+01   \n",
              "max    1.270000e+02  1.270000e+02  1.270000e+02  5.976071e+01  1.802300e+02   \n",
              "\n",
              "               TEMP         label  \n",
              "count  1.150905e+07  1.150905e+07  \n",
              "mean   3.223435e+01  1.554202e+00  \n",
              "std    2.260516e+00  7.891827e-01  \n",
              "min    2.409000e+01  0.000000e+00  \n",
              "25%    3.019000e+01  1.000000e+00  \n",
              "50%    3.257000e+01  2.000000e+00  \n",
              "75%    3.425000e+01  2.000000e+00  \n",
              "max    3.659000e+01  2.000000e+00  "
            ],
            "text/html": [
              "\n",
              "  <div id=\"df-bb829e36-2c53-48c3-8ce0-a5286caf1822\">\n",
              "    <div class=\"colab-df-container\">\n",
              "      <div>\n",
              "<style scoped>\n",
              "    .dataframe tbody tr th:only-of-type {\n",
              "        vertical-align: middle;\n",
              "    }\n",
              "\n",
              "    .dataframe tbody tr th {\n",
              "        vertical-align: top;\n",
              "    }\n",
              "\n",
              "    .dataframe thead th {\n",
              "        text-align: right;\n",
              "    }\n",
              "</style>\n",
              "<table border=\"1\" class=\"dataframe\">\n",
              "  <thead>\n",
              "    <tr style=\"text-align: right;\">\n",
              "      <th></th>\n",
              "      <th>X</th>\n",
              "      <th>Y</th>\n",
              "      <th>Z</th>\n",
              "      <th>EDA</th>\n",
              "      <th>HR</th>\n",
              "      <th>TEMP</th>\n",
              "      <th>label</th>\n",
              "    </tr>\n",
              "  </thead>\n",
              "  <tbody>\n",
              "    <tr>\n",
              "      <th>count</th>\n",
              "      <td>1.150905e+07</td>\n",
              "      <td>1.150905e+07</td>\n",
              "      <td>1.150905e+07</td>\n",
              "      <td>1.150905e+07</td>\n",
              "      <td>1.150905e+07</td>\n",
              "      <td>1.150905e+07</td>\n",
              "      <td>1.150905e+07</td>\n",
              "    </tr>\n",
              "    <tr>\n",
              "      <th>mean</th>\n",
              "      <td>-2.823774e+01</td>\n",
              "      <td>-9.091031e-01</td>\n",
              "      <td>2.382449e+01</td>\n",
              "      <td>3.502127e+00</td>\n",
              "      <td>8.576053e+01</td>\n",
              "      <td>3.223435e+01</td>\n",
              "      <td>1.554202e+00</td>\n",
              "    </tr>\n",
              "    <tr>\n",
              "      <th>std</th>\n",
              "      <td>3.142310e+01</td>\n",
              "      <td>3.343382e+01</td>\n",
              "      <td>2.985317e+01</td>\n",
              "      <td>5.656541e+00</td>\n",
              "      <td>1.419601e+01</td>\n",
              "      <td>2.260516e+00</td>\n",
              "      <td>7.891827e-01</td>\n",
              "    </tr>\n",
              "    <tr>\n",
              "      <th>min</th>\n",
              "      <td>-1.280000e+02</td>\n",
              "      <td>-1.280000e+02</td>\n",
              "      <td>-1.280000e+02</td>\n",
              "      <td>0.000000e+00</td>\n",
              "      <td>5.100000e+01</td>\n",
              "      <td>2.409000e+01</td>\n",
              "      <td>0.000000e+00</td>\n",
              "    </tr>\n",
              "    <tr>\n",
              "      <th>25%</th>\n",
              "      <td>-5.200000e+01</td>\n",
              "      <td>-1.900000e+01</td>\n",
              "      <td>4.000000e+00</td>\n",
              "      <td>2.242060e-01</td>\n",
              "      <td>7.672000e+01</td>\n",
              "      <td>3.019000e+01</td>\n",
              "      <td>1.000000e+00</td>\n",
              "    </tr>\n",
              "    <tr>\n",
              "      <th>50%</th>\n",
              "      <td>-3.300000e+01</td>\n",
              "      <td>1.000000e+00</td>\n",
              "      <td>2.500000e+01</td>\n",
              "      <td>1.157407e+00</td>\n",
              "      <td>8.390000e+01</td>\n",
              "      <td>3.257000e+01</td>\n",
              "      <td>2.000000e+00</td>\n",
              "    </tr>\n",
              "    <tr>\n",
              "      <th>75%</th>\n",
              "      <td>-1.400000e+01</td>\n",
              "      <td>1.700000e+01</td>\n",
              "      <td>4.900000e+01</td>\n",
              "      <td>4.077436e+00</td>\n",
              "      <td>9.310000e+01</td>\n",
              "      <td>3.425000e+01</td>\n",
              "      <td>2.000000e+00</td>\n",
              "    </tr>\n",
              "    <tr>\n",
              "      <th>max</th>\n",
              "      <td>1.270000e+02</td>\n",
              "      <td>1.270000e+02</td>\n",
              "      <td>1.270000e+02</td>\n",
              "      <td>5.976071e+01</td>\n",
              "      <td>1.802300e+02</td>\n",
              "      <td>3.659000e+01</td>\n",
              "      <td>2.000000e+00</td>\n",
              "    </tr>\n",
              "  </tbody>\n",
              "</table>\n",
              "</div>\n",
              "      <button class=\"colab-df-convert\" onclick=\"convertToInteractive('df-bb829e36-2c53-48c3-8ce0-a5286caf1822')\"\n",
              "              title=\"Convert this dataframe to an interactive table.\"\n",
              "              style=\"display:none;\">\n",
              "        \n",
              "  <svg xmlns=\"http://www.w3.org/2000/svg\" height=\"24px\"viewBox=\"0 0 24 24\"\n",
              "       width=\"24px\">\n",
              "    <path d=\"M0 0h24v24H0V0z\" fill=\"none\"/>\n",
              "    <path d=\"M18.56 5.44l.94 2.06.94-2.06 2.06-.94-2.06-.94-.94-2.06-.94 2.06-2.06.94zm-11 1L8.5 8.5l.94-2.06 2.06-.94-2.06-.94L8.5 2.5l-.94 2.06-2.06.94zm10 10l.94 2.06.94-2.06 2.06-.94-2.06-.94-.94-2.06-.94 2.06-2.06.94z\"/><path d=\"M17.41 7.96l-1.37-1.37c-.4-.4-.92-.59-1.43-.59-.52 0-1.04.2-1.43.59L10.3 9.45l-7.72 7.72c-.78.78-.78 2.05 0 2.83L4 21.41c.39.39.9.59 1.41.59.51 0 1.02-.2 1.41-.59l7.78-7.78 2.81-2.81c.8-.78.8-2.07 0-2.86zM5.41 20L4 18.59l7.72-7.72 1.47 1.35L5.41 20z\"/>\n",
              "  </svg>\n",
              "      </button>\n",
              "      \n",
              "  <style>\n",
              "    .colab-df-container {\n",
              "      display:flex;\n",
              "      flex-wrap:wrap;\n",
              "      gap: 12px;\n",
              "    }\n",
              "\n",
              "    .colab-df-convert {\n",
              "      background-color: #E8F0FE;\n",
              "      border: none;\n",
              "      border-radius: 50%;\n",
              "      cursor: pointer;\n",
              "      display: none;\n",
              "      fill: #1967D2;\n",
              "      height: 32px;\n",
              "      padding: 0 0 0 0;\n",
              "      width: 32px;\n",
              "    }\n",
              "\n",
              "    .colab-df-convert:hover {\n",
              "      background-color: #E2EBFA;\n",
              "      box-shadow: 0px 1px 2px rgba(60, 64, 67, 0.3), 0px 1px 3px 1px rgba(60, 64, 67, 0.15);\n",
              "      fill: #174EA6;\n",
              "    }\n",
              "\n",
              "    [theme=dark] .colab-df-convert {\n",
              "      background-color: #3B4455;\n",
              "      fill: #D2E3FC;\n",
              "    }\n",
              "\n",
              "    [theme=dark] .colab-df-convert:hover {\n",
              "      background-color: #434B5C;\n",
              "      box-shadow: 0px 1px 3px 1px rgba(0, 0, 0, 0.15);\n",
              "      filter: drop-shadow(0px 1px 2px rgba(0, 0, 0, 0.3));\n",
              "      fill: #FFFFFF;\n",
              "    }\n",
              "  </style>\n",
              "\n",
              "      <script>\n",
              "        const buttonEl =\n",
              "          document.querySelector('#df-bb829e36-2c53-48c3-8ce0-a5286caf1822 button.colab-df-convert');\n",
              "        buttonEl.style.display =\n",
              "          google.colab.kernel.accessAllowed ? 'block' : 'none';\n",
              "\n",
              "        async function convertToInteractive(key) {\n",
              "          const element = document.querySelector('#df-bb829e36-2c53-48c3-8ce0-a5286caf1822');\n",
              "          const dataTable =\n",
              "            await google.colab.kernel.invokeFunction('convertToInteractive',\n",
              "                                                     [key], {});\n",
              "          if (!dataTable) return;\n",
              "\n",
              "          const docLinkHtml = 'Like what you see? Visit the ' +\n",
              "            '<a target=\"_blank\" href=https://colab.research.google.com/notebooks/data_table.ipynb>data table notebook</a>'\n",
              "            + ' to learn more about interactive tables.';\n",
              "          element.innerHTML = '';\n",
              "          dataTable['output_type'] = 'display_data';\n",
              "          await google.colab.output.renderOutput(dataTable, element);\n",
              "          const docLink = document.createElement('div');\n",
              "          docLink.innerHTML = docLinkHtml;\n",
              "          element.appendChild(docLink);\n",
              "        }\n",
              "      </script>\n",
              "    </div>\n",
              "  </div>\n",
              "  "
            ]
          },
          "metadata": {},
          "execution_count": 4
        }
      ],
      "source": [
        "data.describe()"
      ]
    },
    {
      "cell_type": "code",
      "execution_count": 5,
      "metadata": {
        "colab": {
          "base_uri": "https://localhost:8080/"
        },
        "id": "cxMt9Y5lxFFc",
        "outputId": "80e3103a-fdc6-4d12-938a-3456a3c63fb6"
      },
      "outputs": [
        {
          "output_type": "execute_result",
          "data": {
            "text/plain": [
              "X           0\n",
              "Y           0\n",
              "Z           0\n",
              "EDA         0\n",
              "HR          0\n",
              "TEMP        0\n",
              "id          0\n",
              "datetime    0\n",
              "label       0\n",
              "dtype: int64"
            ]
          },
          "metadata": {},
          "execution_count": 5
        }
      ],
      "source": [
        "data.isnull().sum()"
      ]
    },
    {
      "cell_type": "code",
      "execution_count": 6,
      "metadata": {
        "colab": {
          "base_uri": "https://localhost:8080/"
        },
        "id": "C493f_ckxLab",
        "outputId": "ecab0f82-3172-4bbb-c0ff-52ee7040da51"
      },
      "outputs": [
        {
          "output_type": "execute_result",
          "data": {
            "text/plain": [
              "2.0    8540583\n",
              "0.0    2162246\n",
              "1.0     806222\n",
              "Name: label, dtype: int64"
            ]
          },
          "metadata": {},
          "execution_count": 6
        }
      ],
      "source": [
        "data['label'].value_counts()"
      ]
    },
    {
      "cell_type": "code",
      "execution_count": 7,
      "metadata": {
        "id": "e06Z3V252_qH"
      },
      "outputs": [],
      "source": [
        "import seaborn as sns\n",
        "import matplotlib.pyplot as plt\n"
      ]
    },
    {
      "cell_type": "code",
      "execution_count": 8,
      "metadata": {
        "colab": {
          "base_uri": "https://localhost:8080/"
        },
        "id": "SijZd98W5014",
        "outputId": "e12d2cc5-d55f-42f3-d88c-77eaf6cde48c"
      },
      "outputs": [
        {
          "output_type": "stream",
          "name": "stdout",
          "text": [
            "<class 'pandas.core.frame.DataFrame'>\n",
            "RangeIndex: 11509051 entries, 0 to 11509050\n",
            "Data columns (total 9 columns):\n",
            " #   Column    Dtype  \n",
            "---  ------    -----  \n",
            " 0   X         float64\n",
            " 1   Y         float64\n",
            " 2   Z         float64\n",
            " 3   EDA       float64\n",
            " 4   HR        float64\n",
            " 5   TEMP      float64\n",
            " 6   id        object \n",
            " 7   datetime  object \n",
            " 8   label     float64\n",
            "dtypes: float64(7), object(2)\n",
            "memory usage: 790.3+ MB\n"
          ]
        }
      ],
      "source": [
        "data.info()"
      ]
    },
    {
      "cell_type": "code",
      "execution_count": 9,
      "metadata": {
        "colab": {
          "base_uri": "https://localhost:8080/",
          "height": 483
        },
        "id": "6QEHSGRIxZ6N",
        "outputId": "50197d5e-d46b-4060-cb53-596728aef964"
      },
      "outputs": [
        {
          "output_type": "execute_result",
          "data": {
            "text/plain": [
              "<Axes: xlabel='label', ylabel='count'>"
            ]
          },
          "metadata": {},
          "execution_count": 9
        },
        {
          "output_type": "display_data",
          "data": {
            "text/plain": [
              "<Figure size 640x480 with 1 Axes>"
            ],
            "image/png": "[encoded data removed]"
          },
          "metadata": {}
        }
      ],
      "source": [
        "sns.countplot(x= data['label'] )"
      ]
    },
    {
      "cell_type": "code",
      "execution_count": 10,
      "metadata": {
        "colab": {
          "base_uri": "https://localhost:8080/",
          "height": 306
        },
        "id": "2jvJ8_hYBHRd",
        "outputId": "2d8ddde4-adad-4a9a-be98-557d699520ef"
      },
      "outputs": [
        {
          "output_type": "stream",
          "name": "stderr",
          "text": [
            "<ipython-input-10-c44ded798807>:1: FutureWarning: The default value of numeric_only in DataFrame.corr is deprecated. In a future version, it will default to False. Select only valid columns or specify the value of numeric_only to silence this warning.\n",
            "  data.corr()\n"
          ]
        },
        {
          "output_type": "execute_result",
          "data": {
            "text/plain": [
              "              X         Y         Z       EDA        HR      TEMP     label\n",
              "X      1.000000  0.067204  0.197295  0.093888  0.126069  0.022847 -0.008351\n",
              "Y      0.067204  1.000000  0.019083 -0.096138 -0.068198 -0.084576 -0.022143\n",
              "Z      0.197295  0.019083  1.000000  0.005993 -0.104143 -0.029366 -0.058655\n",
              "EDA    0.093888 -0.096138  0.005993  1.000000  0.142523  0.352888  0.053215\n",
              "HR     0.126069 -0.068198 -0.104143  0.142523  1.000000  0.158127 -0.032893\n",
              "TEMP   0.022847 -0.084576 -0.029366  0.352888  0.158127  1.000000  0.135259\n",
              "label -0.008351 -0.022143 -0.058655  0.053215 -0.032893  0.135259  1.000000"
            ],
            "text/html": [
              "\n",
              "  <div id=\"df-4c9fdece-c15a-4ed4-b96b-409c9e4488a5\">\n",
              "    <div class=\"colab-df-container\">\n",
              "      <div>\n",
              "<style scoped>\n",
              "    .dataframe tbody tr th:only-of-type {\n",
              "        vertical-align: middle;\n",
              "    }\n",
              "\n",
              "    .dataframe tbody tr th {\n",
              "        vertical-align: top;\n",
              "    }\n",
              "\n",
              "    .dataframe thead th {\n",
              "        text-align: right;\n",
              "    }\n",
              "</style>\n",
              "<table border=\"1\" class=\"dataframe\">\n",
              "  <thead>\n",
              "    <tr style=\"text-align: right;\">\n",
              "      <th></th>\n",
              "      <th>X</th>\n",
              "      <th>Y</th>\n",
              "      <th>Z</th>\n",
              "      <th>EDA</th>\n",
              "      <th>HR</th>\n",
              "      <th>TEMP</th>\n",
              "      <th>label</th>\n",
              "    </tr>\n",
              "  </thead>\n",
              "  <tbody>\n",
              "    <tr>\n",
              "      <th>X</th>\n",
              "      <td>1.000000</td>\n",
              "      <td>0.067204</td>\n",
              "      <td>0.197295</td>\n",
              "      <td>0.093888</td>\n",
              "      <td>0.126069</td>\n",
              "      <td>0.022847</td>\n",
              "      <td>-0.008351</td>\n",
              "    </tr>\n",
              "    <tr>\n",
              "      <th>Y</th>\n",
              "      <td>0.067204</td>\n",
              "      <td>1.000000</td>\n",
              "      <td>0.019083</td>\n",
              "      <td>-0.096138</td>\n",
              "      <td>-0.068198</td>\n",
              "      <td>-0.084576</td>\n",
              "      <td>-0.022143</td>\n",
              "    </tr>\n",
              "    <tr>\n",
              "      <th>Z</th>\n",
              "      <td>0.197295</td>\n",
              "      <td>0.019083</td>\n",
              "      <td>1.000000</td>\n",
              "      <td>0.005993</td>\n",
              "      <td>-0.104143</td>\n",
              "      <td>-0.029366</td>\n",
              "      <td>-0.058655</td>\n",
              "    </tr>\n",
              "    <tr>\n",
              "      <th>EDA</th>\n",
              "      <td>0.093888</td>\n",
              "      <td>-0.096138</td>\n",
              "      <td>0.005993</td>\n",
              "      <td>1.000000</td>\n",
              "      <td>0.142523</td>\n",
              "      <td>0.352888</td>\n",
              "      <td>0.053215</td>\n",
              "    </tr>\n",
              "    <tr>\n",
              "      <th>HR</th>\n",
              "      <td>0.126069</td>\n",
              "      <td>-0.068198</td>\n",
              "      <td>-0.104143</td>\n",
              "      <td>0.142523</td>\n",
              "      <td>1.000000</td>\n",
              "      <td>0.158127</td>\n",
              "      <td>-0.032893</td>\n",
              "    </tr>\n",
              "    <tr>\n",
              "      <th>TEMP</th>\n",
              "      <td>0.022847</td>\n",
              "      <td>-0.084576</td>\n",
              "      <td>-0.029366</td>\n",
              "      <td>0.352888</td>\n",
              "      <td>0.158127</td>\n",
              "      <td>1.000000</td>\n",
              "      <td>0.135259</td>\n",
              "    </tr>\n",
              "    <tr>\n",
              "      <th>label</th>\n",
              "      <td>-0.008351</td>\n",
              "      <td>-0.022143</td>\n",
              "      <td>-0.058655</td>\n",
              "      <td>0.053215</td>\n",
              "      <td>-0.032893</td>\n",
              "      <td>0.135259</td>\n",
              "      <td>1.000000</td>\n",
              "    </tr>\n",
              "  </tbody>\n",
              "</table>\n",
              "</div>\n",
              "      <button class=\"colab-df-convert\" onclick=\"convertToInteractive('df-4c9fdece-c15a-4ed4-b96b-409c9e4488a5')\"\n",
              "              title=\"Convert this dataframe to an interactive table.\"\n",
              "              style=\"display:none;\">\n",
              "        \n",
              "  <svg xmlns=\"http://www.w3.org/2000/svg\" height=\"24px\"viewBox=\"0 0 24 24\"\n",
              "       width=\"24px\">\n",
              "    <path d=\"M0 0h24v24H0V0z\" fill=\"none\"/>\n",
              "    <path d=\"M18.56 5.44l.94 2.06.94-2.06 2.06-.94-2.06-.94-.94-2.06-.94 2.06-2.06.94zm-11 1L8.5 8.5l.94-2.06 2.06-.94-2.06-.94L8.5 2.5l-.94 2.06-2.06.94zm10 10l.94 2.06.94-2.06 2.06-.94-2.06-.94-.94-2.06-.94 2.06-2.06.94z\"/><path d=\"M17.41 7.96l-1.37-1.37c-.4-.4-.92-.59-1.43-.59-.52 0-1.04.2-1.43.59L10.3 9.45l-7.72 7.72c-.78.78-.78 2.05 0 2.83L4 21.41c.39.39.9.59 1.41.59.51 0 1.02-.2 1.41-.59l7.78-7.78 2.81-2.81c.8-.78.8-2.07 0-2.86zM5.41 20L4 18.59l7.72-7.72 1.47 1.35L5.41 20z\"/>\n",
              "  </svg>\n",
              "      </button>\n",
              "      \n",
              "  <style>\n",
              "    .colab-df-container {\n",
              "      display:flex;\n",
              "      flex-wrap:wrap;\n",
              "      gap: 12px;\n",
              "    }\n",
              "\n",
              "    .colab-df-convert {\n",
              "      background-color: #E8F0FE;\n",
              "      border: none;\n",
              "      border-radius: 50%;\n",
              "      cursor: pointer;\n",
              "      display: none;\n",
              "      fill: #1967D2;\n",
              "      height: 32px;\n",
              "      padding: 0 0 0 0;\n",
              "      width: 32px;\n",
              "    }\n",
              "\n",
              "    .colab-df-convert:hover {\n",
              "      background-color: #E2EBFA;\n",
              "      box-shadow: 0px 1px 2px rgba(60, 64, 67, 0.3), 0px 1px 3px 1px rgba(60, 64, 67, 0.15);\n",
              "      fill: #174EA6;\n",
              "    }\n",
              "\n",
              "    [theme=dark] .colab-df-convert {\n",
              "      background-color: #3B4455;\n",
              "      fill: #D2E3FC;\n",
              "    }\n",
              "\n",
              "    [theme=dark] .colab-df-convert:hover {\n",
              "      background-color: #434B5C;\n",
              "      box-shadow: 0px 1px 3px 1px rgba(0, 0, 0, 0.15);\n",
              "      filter: drop-shadow(0px 1px 2px rgba(0, 0, 0, 0.3));\n",
              "      fill: #FFFFFF;\n",
              "    }\n",
              "  </style>\n",
              "\n",
              "      <script>\n",
              "        const buttonEl =\n",
              "          document.querySelector('#df-4c9fdece-c15a-4ed4-b96b-409c9e4488a5 button.colab-df-convert');\n",
              "        buttonEl.style.display =\n",
              "          google.colab.kernel.accessAllowed ? 'block' : 'none';\n",
              "\n",
              "        async function convertToInteractive(key) {\n",
              "          const element = document.querySelector('#df-4c9fdece-c15a-4ed4-b96b-409c9e4488a5');\n",
              "          const dataTable =\n",
              "            await google.colab.kernel.invokeFunction('convertToInteractive',\n",
              "                                                     [key], {});\n",
              "          if (!dataTable) return;\n",
              "\n",
              "          const docLinkHtml = 'Like what you see? Visit the ' +\n",
              "            '<a target=\"_blank\" href=https://colab.research.google.com/notebooks/data_table.ipynb>data table notebook</a>'\n",
              "            + ' to learn more about interactive tables.';\n",
              "          element.innerHTML = '';\n",
              "          dataTable['output_type'] = 'display_data';\n",
              "          await google.colab.output.renderOutput(dataTable, element);\n",
              "          const docLink = document.createElement('div');\n",
              "          docLink.innerHTML = docLinkHtml;\n",
              "          element.appendChild(docLink);\n",
              "        }\n",
              "      </script>\n",
              "    </div>\n",
              "  </div>\n",
              "  "
            ]
          },
          "metadata": {},
          "execution_count": 10
        }
      ],
      "source": [
        "data.corr()"
      ]
    },
    {
      "cell_type": "code",
      "execution_count": 11,
      "metadata": {
        "colab": {
          "base_uri": "https://localhost:8080/",
          "height": 873
        },
        "id": "r0k-DW473OSb",
        "outputId": "b1b1423a-a59a-4338-fd5c-0bf484568f17"
      },
      "outputs": [
        {
          "output_type": "stream",
          "name": "stderr",
          "text": [
            "<ipython-input-11-53fe42221789>:2: FutureWarning: The default value of numeric_only in DataFrame.corr is deprecated. In a future version, it will default to False. Select only valid columns or specify the value of numeric_only to silence this warning.\n",
            "  sns.heatmap(data.corr(),cmap=\"rocket\", annot = True)\n"
          ]
        },
        {
          "output_type": "display_data",
          "data": {
            "text/plain": [
              "<Figure size 1000x1000 with 2 Axes>"
            ],
            "image/png": "[encoded data removed]"
          },
          "metadata": {}
        }
      ],
      "source": [
        "fig, ax = plt.subplots(figsize=(10,10))   \n",
        "sns.heatmap(data.corr(),cmap=\"rocket\", annot = True)\n",
        "plt.show()"
      ]
    },
    {
      "cell_type": "code",
      "execution_count": 12,
      "metadata": {
        "colab": {
          "base_uri": "https://localhost:8080/"
        },
        "id": "94G_pF528Hpt",
        "outputId": "582188b1-3706-412e-b60d-0b9a71799428"
      },
      "outputs": [
        {
          "output_type": "execute_result",
          "data": {
            "text/plain": [
              "105606"
            ]
          },
          "metadata": {},
          "execution_count": 12
        }
      ],
      "source": [
        "data.duplicated().sum()"
      ]
    },
    {
      "cell_type": "code",
      "execution_count": 13,
      "metadata": {
        "colab": {
          "base_uri": "https://localhost:8080/"
        },
        "id": "Va8sY0bZWVgL",
        "outputId": "a0a5176d-dca9-4a97-e322-45ac63ae4945"
      },
      "outputs": [
        {
          "output_type": "stream",
          "name": "stdout",
          "text": [
            "X                  float64\n",
            "Y                  float64\n",
            "Z                  float64\n",
            "EDA                float64\n",
            "HR                 float64\n",
            "TEMP               float64\n",
            "id                  object\n",
            "datetime    datetime64[ns]\n",
            "label              float64\n",
            "dtype: object\n",
            "      X     Y     Z        EDA     HR   TEMP  id  \\\n",
            "0 -72.0  68.0 -38.0  22.903978  90.85  35.73  94   \n",
            "1 -18.0  74.0 -21.0  22.903978  90.85  35.73  94   \n",
            "2 -17.0  69.0 -36.0  22.903978  90.85  35.73  94   \n",
            "3 -27.0  57.0 -20.0  22.903978  90.85  35.73  94   \n",
            "4   7.0  61.0   1.0  22.903978  90.85  35.73  94   \n",
            "\n",
            "                       datetime  label  \n",
            "0 2020-05-10 23:55:00.000000000    2.0  \n",
            "1 2020-05-10 23:55:00.031249920    2.0  \n",
            "2 2020-05-10 23:55:00.062500096    2.0  \n",
            "3 2020-05-10 23:55:00.093750016    2.0  \n",
            "4 2020-05-10 23:55:00.124999936    2.0  \n"
          ]
        }
      ],
      "source": [
        "data['datetime'] = pd.to_datetime(data['datetime'], format='%Y-%m-%d %H:%M:%S.%f')\n",
        "\n",
        "#Confirming the data types of each columns\n",
        "print(data.dtypes)\n",
        "\n",
        "#Verifying all new dataset with respect to data\n",
        "print(data.head())"
      ]
    },
    {
      "cell_type": "code",
      "execution_count": null,
      "metadata": {
        "colab": {
          "base_uri": "https://localhost:8080/",
          "height": 570
        },
        "id": "0v3KUM3jNNnr",
        "outputId": "4c0958a2-067c-488e-858b-386cf54695b9"
      },
      "outputs": [
        {
          "data": {
            "image/png": "[encoded data removed]",
            "text/plain": [
              "<Figure size 1200x800 with 1 Axes>"
            ]
          },
          "metadata": {},
          "output_type": "display_data"
        }
      ],
      "source": [
        "\n",
        "df = pd.read_csv(\"/content/drive/MyDrive/data2/3rdstep1/merged_data_labeled.csv\", index_col='datetime', parse_dates=['datetime'], dtype={'id': str})\n",
        "\n",
        "df_resampled = df.resample('5min').mean(numeric_only=True)\n",
        "\n",
        "fig, ax = plt.subplots(figsize=(12,8))\n",
        "\n",
        "ax.plot(df_resampled.index, df_resampled['EDA'], label='EDA Level')\n",
        "ax.plot(df_resampled.index, df_resampled['TEMP'], label='Skin Temperature')\n",
        "ax.plot(df_resampled.index, df_resampled['HR'], label='Heart Rate')\n",
        "\n",
        "ax.set_xlabel('Time')\n",
        "ax.set_ylabel('Readings')\n",
        "ax.set_title('Time Series Analysis of Empatica Wristband Data')\n",
        "ax.legend()\n",
        "\n",
        "plt.show()"
      ]
    },
    {
      "cell_type": "code",
      "execution_count": null,
      "metadata": {
        "colab": {
          "base_uri": "https://localhost:8080/",
          "height": 472
        },
        "id": "yyKh2Ob4Q8sg",
        "outputId": "61e7aca2-2297-4014-a89d-8838a7cc8d1d"
      },
      "outputs": [
        {
          "data": {
            "image/png": "[encoded data removed]",
            "text/plain": [
              "<Figure size 640x480 with 1 Axes>"
            ]
          },
          "metadata": {},
          "output_type": "display_data"
        }
      ],
      "source": [
        "# Resample the data to 1 minute intervals\n",
        "df_resampled = df.resample('1T').mean(numeric_only=True)\n",
        "\n",
        "# Plot the EDA and skin temperature data over time\n",
        "plt.plot(df_resampled.index, df_resampled['EDA'], label='EDA')\n",
        "plt.plot(df_resampled.index, df_resampled['TEMP'], label='Skin Temperature')\n",
        "\n",
        "\n",
        "plt.title('EDA vs Skin')\n",
        "plt.xlabel('Time')\n",
        "plt.ylabel('Level')\n",
        "\n",
        "# Show the legend\n",
        "plt.legend()\n",
        "\n",
        "# Display the chart\n",
        "plt.show()"
      ]
    },
    {
      "cell_type": "code",
      "execution_count": null,
      "metadata": {
        "colab": {
          "base_uri": "https://localhost:8080/",
          "height": 472
        },
        "id": "FxGcrpKDSmLp",
        "outputId": "0f5e319c-5ddc-4240-c129-1e0a670a35ea"
      },
      "outputs": [
        {
          "data": {
            "image/png": "[encoded data removed]",
            "text/plain": [
              "<Figure size 640x480 with 1 Axes>"
            ]
          },
          "metadata": {},
          "output_type": "display_data"
        }
      ],
      "source": [
        "# Resample the data to 5-minute intervals and calculate the mean for each interval\n",
        "df_resampled = df.resample('5T').mean(numeric_only=True)\n",
        "\n",
        "# Create a line chart of the skin temperature over time\n",
        "plt.plot(df_resampled.index, df_resampled['TEMP'])\n",
        "plt.xlabel('Time')\n",
        "plt.ylabel('Skin Temperature')\n",
        "plt.title('Skin Temperature over Time')\n",
        "plt.show()"
      ]
    },
    {
      "cell_type": "markdown",
      "metadata": {
        "id": "Cj0nrgWFW5IR"
      },
      "source": [
        "Model turning\n"
      ]
    },
    {
      "cell_type": "code",
      "source": [
        "import pandas as pd\n",
        "df = pd.read_csv(\"/content/drive/MyDrive/data2/3rdstep1/merged_data_labeled.csv\", dtype={'id': str})"
      ],
      "metadata": {
        "id": "H-hyq1-PyR15"
      },
      "execution_count": 18,
      "outputs": []
    },
    {
      "cell_type": "code",
      "source": [
        "#df.head()\n",
        "#change_label = {0: \"No\", 1: \"Yes\", 2: \"Yes\" }\n",
        "#df['stress'] = df['label'].map(change_label)\n",
        "#my initial idea was to predict wheither the nurse is stressed or not by converting the label 1 and 2 as stresses and 0 as not stressed.But, to increase the accuracy I used the label as it is.  "
      ],
      "metadata": {
        "id": "zoJbKTVEyUmp"
      },
      "execution_count": 19,
      "outputs": []
    },
    {
      "cell_type": "code",
      "source": [
        "df['label'].value_counts()"
      ],
      "metadata": {
        "colab": {
          "base_uri": "https://localhost:8080/"
        },
        "id": "w3W0GXWCzKC8",
        "outputId": "88531e40-d3fc-4276-f4f5-99d54acbc90c"
      },
      "execution_count": 20,
      "outputs": [
        {
          "output_type": "execute_result",
          "data": {
            "text/plain": [
              "2.0    8540583\n",
              "0.0    2162246\n",
              "1.0     806222\n",
              "Name: label, dtype: int64"
            ]
          },
          "metadata": {},
          "execution_count": 20
        }
      ]
    },
    {
      "cell_type": "code",
      "source": [
        "df['datetime'] = pd.to_datetime(df['datetime'], format='%Y-%m-%d %H:%M:%S.%f')"
      ],
      "metadata": {
        "id": "5-Iv0WKGzKg8"
      },
      "execution_count": 21,
      "outputs": []
    },
    {
      "cell_type": "code",
      "source": [
        "new_df = df[df['id'] == '5C' ]\n",
        "new_df['label'].value_counts()"
      ],
      "metadata": {
        "colab": {
          "base_uri": "https://localhost:8080/"
        },
        "id": "X-rDEpqMzNG0",
        "outputId": "c9b1ded8-be09-4eae-80f1-4fc12f377cca"
      },
      "execution_count": 22,
      "outputs": [
        {
          "output_type": "execute_result",
          "data": {
            "text/plain": [
              "0.0    309121\n",
              "1.0    295685\n",
              "2.0    261124\n",
              "Name: label, dtype: int64"
            ]
          },
          "metadata": {},
          "execution_count": 22
        }
      ]
    },
    {
      "cell_type": "code",
      "source": [
        "new_df['date'] = new_df['datetime'].dt.date\n",
        "#new_df['time'] = new_df['datetime'].dt.time"
      ],
      "metadata": {
        "colab": {
          "base_uri": "https://localhost:8080/"
        },
        "id": "Oig2jS-2zO58",
        "outputId": "01e9e24e-5ae9-48af-f130-42ba2c713bca"
      },
      "execution_count": 23,
      "outputs": [
        {
          "output_type": "stream",
          "name": "stderr",
          "text": [
            "<ipython-input-23-c2b1cbaa6fb2>:1: SettingWithCopyWarning: \n",
            "A value is trying to be set on a copy of a slice from a DataFrame.\n",
            "Try using .loc[row_indexer,col_indexer] = value instead\n",
            "\n",
            "See the caveats in the documentation: https://pandas.pydata.org/pandas-docs/stable/user_guide/indexing.html#returning-a-view-versus-a-copy\n",
            "  new_df['date'] = new_df['datetime'].dt.date\n"
          ]
        }
      ]
    },
    {
      "cell_type": "code",
      "source": [
        "new_df['date'] = new_df['date'].astype('str')\n",
        "new_df['date'].value_counts()"
      ],
      "metadata": {
        "colab": {
          "base_uri": "https://localhost:8080/"
        },
        "id": "QeDiSK6EzRrk",
        "outputId": "6c0f41f9-cecf-405d-9d59-6a811611635e"
      },
      "execution_count": 24,
      "outputs": [
        {
          "output_type": "stream",
          "name": "stderr",
          "text": [
            "<ipython-input-24-65c7ab83df5c>:1: SettingWithCopyWarning: \n",
            "A value is trying to be set on a copy of a slice from a DataFrame.\n",
            "Try using .loc[row_indexer,col_indexer] = value instead\n",
            "\n",
            "See the caveats in the documentation: https://pandas.pydata.org/pandas-docs/stable/user_guide/indexing.html#returning-a-view-versus-a-copy\n",
            "  new_df['date'] = new_df['date'].astype('str')\n"
          ]
        },
        {
          "output_type": "execute_result",
          "data": {
            "text/plain": [
              "2020-06-23    341762\n",
              "2020-06-24    261124\n",
              "2020-06-25    170882\n",
              "2020-04-14     51841\n",
              "2020-05-08     40321\n",
              "Name: date, dtype: int64"
            ]
          },
          "metadata": {},
          "execution_count": 24
        }
      ]
    },
    {
      "cell_type": "code",
      "source": [
        "import matplotlib.pyplot as plt\n",
        "target = new_df['label']\n",
        "x = new_df['datetime']\n",
        "\n",
        "plt.plot(x, target)"
      ],
      "metadata": {
        "colab": {
          "base_uri": "https://localhost:8080/",
          "height": 448
        },
        "id": "6Ws_VF_yzUGs",
        "outputId": "01da5bcf-c5bc-4fb1-a894-1f876789c2da"
      },
      "execution_count": 25,
      "outputs": [
        {
          "output_type": "execute_result",
          "data": {
            "text/plain": [
              "[<matplotlib.lines.Line2D at 0x7fa4e3506fd0>]"
            ]
          },
          "metadata": {},
          "execution_count": 25
        },
        {
          "output_type": "display_data",
          "data": {
            "text/plain": [
              "<Figure size 640x480 with 1 Axes>"
            ],
            "image/png": "[encoded data removed]"
          },
          "metadata": {}
        }
      ]
    },
    {
      "cell_type": "code",
      "source": [
        "new_df.drop(columns=['id'], inplace = True)\n",
        "new_df.shape"
      ],
      "metadata": {
        "colab": {
          "base_uri": "https://localhost:8080/"
        },
        "id": "u09wkw6jzXa0",
        "outputId": "b6604d76-e3d2-4d75-b9e0-6c6bf27a7a4c"
      },
      "execution_count": 26,
      "outputs": [
        {
          "output_type": "stream",
          "name": "stderr",
          "text": [
            "<ipython-input-26-9c940d989064>:1: SettingWithCopyWarning: \n",
            "A value is trying to be set on a copy of a slice from a DataFrame\n",
            "\n",
            "See the caveats in the documentation: https://pandas.pydata.org/pandas-docs/stable/user_guide/indexing.html#returning-a-view-versus-a-copy\n",
            "  new_df.drop(columns=['id'], inplace = True)\n"
          ]
        },
        {
          "output_type": "execute_result",
          "data": {
            "text/plain": [
              "(865930, 9)"
            ]
          },
          "metadata": {},
          "execution_count": 26
        }
      ]
    },
    {
      "cell_type": "code",
      "source": [
        "df1 = new_df[new_df['date'] == '2020-06-23']\n",
        "df2 = new_df[new_df['date'] == '2020-06-24']\n",
        "df3 = new_df[new_df['date'] == '2020-06-25']\n",
        "df4 = new_df[new_df['date'] == '2020-04-14']\n",
        "df5 = new_df[new_df['date'] == '2020-05-08']\n"
      ],
      "metadata": {
        "id": "hueVFCVLzaN8"
      },
      "execution_count": 27,
      "outputs": []
    },
    {
      "cell_type": "code",
      "source": [
        "df1.shape[0] + df2.shape[0] +df3.shape[0]+ df4.shape[0] + df5.shape[0] == new_df.shape[0]"
      ],
      "metadata": {
        "colab": {
          "base_uri": "https://localhost:8080/"
        },
        "id": "mS120CQDzdX8",
        "outputId": "80cc211d-d0aa-4e8b-d035-50252f296940"
      },
      "execution_count": 28,
      "outputs": [
        {
          "output_type": "execute_result",
          "data": {
            "text/plain": [
              "True"
            ]
          },
          "metadata": {},
          "execution_count": 28
        }
      ]
    },
    {
      "cell_type": "code",
      "source": [
        "df1['label'].value_counts()"
      ],
      "metadata": {
        "colab": {
          "base_uri": "https://localhost:8080/"
        },
        "id": "OfFMheCczfz8",
        "outputId": "68a33a5d-b8e2-43d1-fd67-52c50a007e63"
      },
      "execution_count": 29,
      "outputs": [
        {
          "output_type": "execute_result",
          "data": {
            "text/plain": [
              "0.0    309121\n",
              "1.0     32641\n",
              "Name: label, dtype: int64"
            ]
          },
          "metadata": {},
          "execution_count": 29
        }
      ]
    },
    {
      "cell_type": "code",
      "source": [
        "df2['label'].value_counts()"
      ],
      "metadata": {
        "colab": {
          "base_uri": "https://localhost:8080/"
        },
        "id": "T1mepdcIziIF",
        "outputId": "6cc21db0-0111-4486-f341-3d89d81ca392"
      },
      "execution_count": 30,
      "outputs": [
        {
          "output_type": "execute_result",
          "data": {
            "text/plain": [
              "2.0    261124\n",
              "Name: label, dtype: int64"
            ]
          },
          "metadata": {},
          "execution_count": 30
        }
      ]
    },
    {
      "cell_type": "code",
      "source": [
        "df3['label'].value_counts()"
      ],
      "metadata": {
        "colab": {
          "base_uri": "https://localhost:8080/"
        },
        "id": "zVvNBFy4zj81",
        "outputId": "7aa7dcc3-fd83-4352-ba65-be2987b62f11"
      },
      "execution_count": 31,
      "outputs": [
        {
          "output_type": "execute_result",
          "data": {
            "text/plain": [
              "1.0    170882\n",
              "Name: label, dtype: int64"
            ]
          },
          "metadata": {},
          "execution_count": 31
        }
      ]
    },
    {
      "cell_type": "code",
      "source": [
        "df4['label'].value_counts()"
      ],
      "metadata": {
        "colab": {
          "base_uri": "https://localhost:8080/"
        },
        "id": "Zpt1PGm1zmF9",
        "outputId": "855e7686-2439-4d91-b359-524e131dfcbe"
      },
      "execution_count": 32,
      "outputs": [
        {
          "output_type": "execute_result",
          "data": {
            "text/plain": [
              "1.0    51841\n",
              "Name: label, dtype: int64"
            ]
          },
          "metadata": {},
          "execution_count": 32
        }
      ]
    },
    {
      "cell_type": "code",
      "source": [
        "df5['label'].value_counts()"
      ],
      "metadata": {
        "colab": {
          "base_uri": "https://localhost:8080/"
        },
        "id": "Rsq24PkSznxF",
        "outputId": "f82fb27e-02e8-4dbc-82aa-f8f8d938be44"
      },
      "execution_count": 33,
      "outputs": [
        {
          "output_type": "execute_result",
          "data": {
            "text/plain": [
              "1.0    40321\n",
              "Name: label, dtype: int64"
            ]
          },
          "metadata": {},
          "execution_count": 33
        }
      ]
    },
    {
      "cell_type": "code",
      "source": [
        "#Here we used  merger of df1, df2 and df3 as training set , df4 as training set and df5 as test set."
      ],
      "metadata": {
        "id": "ve8ub1_MzpZF"
      },
      "execution_count": 34,
      "outputs": []
    },
    {
      "cell_type": "code",
      "source": [
        "import matplotlib.pyplot as plt\n",
        "target = new_df['label']\n",
        "x = new_df['date']\n",
        "\n",
        "plt.plot(x, target)"
      ],
      "metadata": {
        "colab": {
          "base_uri": "https://localhost:8080/",
          "height": 448
        },
        "id": "wb_40_l10A_e",
        "outputId": "c7024c6d-d020-4fbb-943f-4ca22f68aa92"
      },
      "execution_count": 35,
      "outputs": [
        {
          "output_type": "execute_result",
          "data": {
            "text/plain": [
              "[<matplotlib.lines.Line2D at 0x7fa51483e340>]"
            ]
          },
          "metadata": {},
          "execution_count": 35
        },
        {
          "output_type": "display_data",
          "data": {
            "text/plain": [
              "<Figure size 640x480 with 1 Axes>"
            ],
            "image/png": "[encoded data removed]"
          },
          "metadata": {}
        }
      ]
    },
    {
      "cell_type": "code",
      "source": [
        "x1 =  df2.append(df3)\n",
        "train = df1.append(x1)\n",
        "train.sort_values(by = \"datetime\")\n",
        "#training set"
      ],
      "metadata": {
        "colab": {
          "base_uri": "https://localhost:8080/",
          "height": 497
        },
        "id": "F3p8vPYq0EzF",
        "outputId": "15503884-4aaa-49a6-9636-c6f5e877da11"
      },
      "execution_count": 36,
      "outputs": [
        {
          "output_type": "stream",
          "name": "stderr",
          "text": [
            "<ipython-input-36-6922ead6ce9b>:1: FutureWarning: The frame.append method is deprecated and will be removed from pandas in a future version. Use pandas.concat instead.\n",
            "  x1 =  df2.append(df3)\n",
            "<ipython-input-36-6922ead6ce9b>:2: FutureWarning: The frame.append method is deprecated and will be removed from pandas in a future version. Use pandas.concat instead.\n",
            "  train = df1.append(x1)\n"
          ]
        },
        {
          "output_type": "execute_result",
          "data": {
            "text/plain": [
              "            X     Y     Z       EDA      HR   TEMP  \\\n",
              "4688999 -24.0  -4.0  59.0  0.461140  128.97  28.65   \n",
              "4689000 -24.0  -4.0  59.0  0.461140  128.97  28.65   \n",
              "4689001 -24.0  -4.0  59.0  0.461140  128.97  28.65   \n",
              "4689002 -24.0  -4.0  59.0  0.461140  128.97  28.65   \n",
              "4689003 -24.0  -4.0  59.0  0.461140  128.97  28.65   \n",
              "...       ...   ...   ...       ...     ...    ...   \n",
              "5462762 -22.0 -57.0 -11.0  0.217787   90.00  27.07   \n",
              "5462763 -23.0 -49.0  -5.0  0.217787   90.00  27.07   \n",
              "5462764 -22.0 -48.0  -2.0  0.217787   90.00  27.07   \n",
              "5462765 -20.0 -49.0  -2.0  0.217787   90.00  27.07   \n",
              "5462766 -20.0 -52.0  -2.0  0.217787   90.05  27.07   \n",
              "\n",
              "                             datetime  label        date  \n",
              "4688999 2020-06-23 17:52:00.000000000    1.0  2020-06-23  \n",
              "4689000 2020-06-23 17:52:00.031249920    1.0  2020-06-23  \n",
              "4689001 2020-06-23 17:52:00.062500096    1.0  2020-06-23  \n",
              "4689002 2020-06-23 17:52:00.093750016    1.0  2020-06-23  \n",
              "4689003 2020-06-23 17:52:00.124999936    1.0  2020-06-23  \n",
              "...                               ...    ...         ...  \n",
              "5462762 2020-06-25 17:25:59.875000064    1.0  2020-06-25  \n",
              "5462763 2020-06-25 17:25:59.906249984    1.0  2020-06-25  \n",
              "5462764 2020-06-25 17:25:59.937499904    1.0  2020-06-25  \n",
              "5462765 2020-06-25 17:25:59.968750080    1.0  2020-06-25  \n",
              "5462766 2020-06-25 17:26:00.000000000    1.0  2020-06-25  \n",
              "\n",
              "[773768 rows x 9 columns]"
            ],
            "text/html": [
              "\n",
              "  <div id=\"df-a16de7dd-474d-43bc-905b-4756e99f2d37\">\n",
              "    <div class=\"colab-df-container\">\n",
              "      <div>\n",
              "<style scoped>\n",
              "    .dataframe tbody tr th:only-of-type {\n",
              "        vertical-align: middle;\n",
              "    }\n",
              "\n",
              "    .dataframe tbody tr th {\n",
              "        vertical-align: top;\n",
              "    }\n",
              "\n",
              "    .dataframe thead th {\n",
              "        text-align: right;\n",
              "    }\n",
              "</style>\n",
              "<table border=\"1\" class=\"dataframe\">\n",
              "  <thead>\n",
              "    <tr style=\"text-align: right;\">\n",
              "      <th></th>\n",
              "      <th>X</th>\n",
              "      <th>Y</th>\n",
              "      <th>Z</th>\n",
              "      <th>EDA</th>\n",
              "      <th>HR</th>\n",
              "      <th>TEMP</th>\n",
              "      <th>datetime</th>\n",
              "      <th>label</th>\n",
              "      <th>date</th>\n",
              "    </tr>\n",
              "  </thead>\n",
              "  <tbody>\n",
              "    <tr>\n",
              "      <th>4688999</th>\n",
              "      <td>-24.0</td>\n",
              "      <td>-4.0</td>\n",
              "      <td>59.0</td>\n",
              "      <td>0.461140</td>\n",
              "      <td>128.97</td>\n",
              "      <td>28.65</td>\n",
              "      <td>2020-06-23 17:52:00.000000000</td>\n",
              "      <td>1.0</td>\n",
              "      <td>2020-06-23</td>\n",
              "    </tr>\n",
              "    <tr>\n",
              "      <th>4689000</th>\n",
              "      <td>-24.0</td>\n",
              "      <td>-4.0</td>\n",
              "      <td>59.0</td>\n",
              "      <td>0.461140</td>\n",
              "      <td>128.97</td>\n",
              "      <td>28.65</td>\n",
              "      <td>2020-06-23 17:52:00.031249920</td>\n",
              "      <td>1.0</td>\n",
              "      <td>2020-06-23</td>\n",
              "    </tr>\n",
              "    <tr>\n",
              "      <th>4689001</th>\n",
              "      <td>-24.0</td>\n",
              "      <td>-4.0</td>\n",
              "      <td>59.0</td>\n",
              "      <td>0.461140</td>\n",
              "      <td>128.97</td>\n",
              "      <td>28.65</td>\n",
              "      <td>2020-06-23 17:52:00.062500096</td>\n",
              "      <td>1.0</td>\n",
              "      <td>2020-06-23</td>\n",
              "    </tr>\n",
              "    <tr>\n",
              "      <th>4689002</th>\n",
              "      <td>-24.0</td>\n",
              "      <td>-4.0</td>\n",
              "      <td>59.0</td>\n",
              "      <td>0.461140</td>\n",
              "      <td>128.97</td>\n",
              "      <td>28.65</td>\n",
              "      <td>2020-06-23 17:52:00.093750016</td>\n",
              "      <td>1.0</td>\n",
              "      <td>2020-06-23</td>\n",
              "    </tr>\n",
              "    <tr>\n",
              "      <th>4689003</th>\n",
              "      <td>-24.0</td>\n",
              "      <td>-4.0</td>\n",
              "      <td>59.0</td>\n",
              "      <td>0.461140</td>\n",
              "      <td>128.97</td>\n",
              "      <td>28.65</td>\n",
              "      <td>2020-06-23 17:52:00.124999936</td>\n",
              "      <td>1.0</td>\n",
              "      <td>2020-06-23</td>\n",
              "    </tr>\n",
              "    <tr>\n",
              "      <th>...</th>\n",
              "      <td>...</td>\n",
              "      <td>...</td>\n",
              "      <td>...</td>\n",
              "      <td>...</td>\n",
              "      <td>...</td>\n",
              "      <td>...</td>\n",
              "      <td>...</td>\n",
              "      <td>...</td>\n",
              "      <td>...</td>\n",
              "    </tr>\n",
              "    <tr>\n",
              "      <th>5462762</th>\n",
              "      <td>-22.0</td>\n",
              "      <td>-57.0</td>\n",
              "      <td>-11.0</td>\n",
              "      <td>0.217787</td>\n",
              "      <td>90.00</td>\n",
              "      <td>27.07</td>\n",
              "      <td>2020-06-25 17:25:59.875000064</td>\n",
              "      <td>1.0</td>\n",
              "      <td>2020-06-25</td>\n",
              "    </tr>\n",
              "    <tr>\n",
              "      <th>5462763</th>\n",
              "      <td>-23.0</td>\n",
              "      <td>-49.0</td>\n",
              "      <td>-5.0</td>\n",
              "      <td>0.217787</td>\n",
              "      <td>90.00</td>\n",
              "      <td>27.07</td>\n",
              "      <td>2020-06-25 17:25:59.906249984</td>\n",
              "      <td>1.0</td>\n",
              "      <td>2020-06-25</td>\n",
              "    </tr>\n",
              "    <tr>\n",
              "      <th>5462764</th>\n",
              "      <td>-22.0</td>\n",
              "      <td>-48.0</td>\n",
              "      <td>-2.0</td>\n",
              "      <td>0.217787</td>\n",
              "      <td>90.00</td>\n",
              "      <td>27.07</td>\n",
              "      <td>2020-06-25 17:25:59.937499904</td>\n",
              "      <td>1.0</td>\n",
              "      <td>2020-06-25</td>\n",
              "    </tr>\n",
              "    <tr>\n",
              "      <th>5462765</th>\n",
              "      <td>-20.0</td>\n",
              "      <td>-49.0</td>\n",
              "      <td>-2.0</td>\n",
              "      <td>0.217787</td>\n",
              "      <td>90.00</td>\n",
              "      <td>27.07</td>\n",
              "      <td>2020-06-25 17:25:59.968750080</td>\n",
              "      <td>1.0</td>\n",
              "      <td>2020-06-25</td>\n",
              "    </tr>\n",
              "    <tr>\n",
              "      <th>5462766</th>\n",
              "      <td>-20.0</td>\n",
              "      <td>-52.0</td>\n",
              "      <td>-2.0</td>\n",
              "      <td>0.217787</td>\n",
              "      <td>90.05</td>\n",
              "      <td>27.07</td>\n",
              "      <td>2020-06-25 17:26:00.000000000</td>\n",
              "      <td>1.0</td>\n",
              "      <td>2020-06-25</td>\n",
              "    </tr>\n",
              "  </tbody>\n",
              "</table>\n",
              "<p>773768 rows × 9 columns</p>\n",
              "</div>\n",
              "      <button class=\"colab-df-convert\" onclick=\"convertToInteractive('df-a16de7dd-474d-43bc-905b-4756e99f2d37')\"\n",
              "              title=\"Convert this dataframe to an interactive table.\"\n",
              "              style=\"display:none;\">\n",
              "        \n",
              "  <svg xmlns=\"http://www.w3.org/2000/svg\" height=\"24px\"viewBox=\"0 0 24 24\"\n",
              "       width=\"24px\">\n",
              "    <path d=\"M0 0h24v24H0V0z\" fill=\"none\"/>\n",
              "    <path d=\"M18.56 5.44l.94 2.06.94-2.06 2.06-.94-2.06-.94-.94-2.06-.94 2.06-2.06.94zm-11 1L8.5 8.5l.94-2.06 2.06-.94-2.06-.94L8.5 2.5l-.94 2.06-2.06.94zm10 10l.94 2.06.94-2.06 2.06-.94-2.06-.94-.94-2.06-.94 2.06-2.06.94z\"/><path d=\"M17.41 7.96l-1.37-1.37c-.4-.4-.92-.59-1.43-.59-.52 0-1.04.2-1.43.59L10.3 9.45l-7.72 7.72c-.78.78-.78 2.05 0 2.83L4 21.41c.39.39.9.59 1.41.59.51 0 1.02-.2 1.41-.59l7.78-7.78 2.81-2.81c.8-.78.8-2.07 0-2.86zM5.41 20L4 18.59l7.72-7.72 1.47 1.35L5.41 20z\"/>\n",
              "  </svg>\n",
              "      </button>\n",
              "      \n",
              "  <style>\n",
              "    .colab-df-container {\n",
              "      display:flex;\n",
              "      flex-wrap:wrap;\n",
              "      gap: 12px;\n",
              "    }\n",
              "\n",
              "    .colab-df-convert {\n",
              "      background-color: #E8F0FE;\n",
              "      border: none;\n",
              "      border-radius: 50%;\n",
              "      cursor: pointer;\n",
              "      display: none;\n",
              "      fill: #1967D2;\n",
              "      height: 32px;\n",
              "      padding: 0 0 0 0;\n",
              "      width: 32px;\n",
              "    }\n",
              "\n",
              "    .colab-df-convert:hover {\n",
              "      background-color: #E2EBFA;\n",
              "      box-shadow: 0px 1px 2px rgba(60, 64, 67, 0.3), 0px 1px 3px 1px rgba(60, 64, 67, 0.15);\n",
              "      fill: #174EA6;\n",
              "    }\n",
              "\n",
              "    [theme=dark] .colab-df-convert {\n",
              "      background-color: #3B4455;\n",
              "      fill: #D2E3FC;\n",
              "    }\n",
              "\n",
              "    [theme=dark] .colab-df-convert:hover {\n",
              "      background-color: #434B5C;\n",
              "      box-shadow: 0px 1px 3px 1px rgba(0, 0, 0, 0.15);\n",
              "      filter: drop-shadow(0px 1px 2px rgba(0, 0, 0, 0.3));\n",
              "      fill: #FFFFFF;\n",
              "    }\n",
              "  </style>\n",
              "\n",
              "      <script>\n",
              "        const buttonEl =\n",
              "          document.querySelector('#df-a16de7dd-474d-43bc-905b-4756e99f2d37 button.colab-df-convert');\n",
              "        buttonEl.style.display =\n",
              "          google.colab.kernel.accessAllowed ? 'block' : 'none';\n",
              "\n",
              "        async function convertToInteractive(key) {\n",
              "          const element = document.querySelector('#df-a16de7dd-474d-43bc-905b-4756e99f2d37');\n",
              "          const dataTable =\n",
              "            await google.colab.kernel.invokeFunction('convertToInteractive',\n",
              "                                                     [key], {});\n",
              "          if (!dataTable) return;\n",
              "\n",
              "          const docLinkHtml = 'Like what you see? Visit the ' +\n",
              "            '<a target=\"_blank\" href=https://colab.research.google.com/notebooks/data_table.ipynb>data table notebook</a>'\n",
              "            + ' to learn more about interactive tables.';\n",
              "          element.innerHTML = '';\n",
              "          dataTable['output_type'] = 'display_data';\n",
              "          await google.colab.output.renderOutput(dataTable, element);\n",
              "          const docLink = document.createElement('div');\n",
              "          docLink.innerHTML = docLinkHtml;\n",
              "          element.appendChild(docLink);\n",
              "        }\n",
              "      </script>\n",
              "    </div>\n",
              "  </div>\n",
              "  "
            ]
          },
          "metadata": {},
          "execution_count": 36
        }
      ]
    },
    {
      "cell_type": "code",
      "source": [
        "train.shape\n",
        "train.set_index('datetime')"
      ],
      "metadata": {
        "colab": {
          "base_uri": "https://localhost:8080/",
          "height": 455
        },
        "id": "JgnBtZTc0IUO",
        "outputId": "cfed3cdc-818f-464a-d20c-8fc0eb099e3c"
      },
      "execution_count": 37,
      "outputs": [
        {
          "output_type": "execute_result",
          "data": {
            "text/plain": [
              "                                  X     Y     Z       EDA      HR   TEMP  \\\n",
              "datetime                                                                   \n",
              "2020-06-23 17:52:00.000000000 -24.0  -4.0  59.0  0.461140  128.97  28.65   \n",
              "2020-06-23 17:52:00.031249920 -24.0  -4.0  59.0  0.461140  128.97  28.65   \n",
              "2020-06-23 17:52:00.062500096 -24.0  -4.0  59.0  0.461140  128.97  28.65   \n",
              "2020-06-23 17:52:00.093750016 -24.0  -4.0  59.0  0.461140  128.97  28.65   \n",
              "2020-06-23 17:52:00.124999936 -24.0  -4.0  59.0  0.461140  128.97  28.65   \n",
              "...                             ...   ...   ...       ...     ...    ...   \n",
              "2020-06-25 17:25:59.875000064 -22.0 -57.0 -11.0  0.217787   90.00  27.07   \n",
              "2020-06-25 17:25:59.906249984 -23.0 -49.0  -5.0  0.217787   90.00  27.07   \n",
              "2020-06-25 17:25:59.937499904 -22.0 -48.0  -2.0  0.217787   90.00  27.07   \n",
              "2020-06-25 17:25:59.968750080 -20.0 -49.0  -2.0  0.217787   90.00  27.07   \n",
              "2020-06-25 17:26:00.000000000 -20.0 -52.0  -2.0  0.217787   90.05  27.07   \n",
              "\n",
              "                               label        date  \n",
              "datetime                                          \n",
              "2020-06-23 17:52:00.000000000    1.0  2020-06-23  \n",
              "2020-06-23 17:52:00.031249920    1.0  2020-06-23  \n",
              "2020-06-23 17:52:00.062500096    1.0  2020-06-23  \n",
              "2020-06-23 17:52:00.093750016    1.0  2020-06-23  \n",
              "2020-06-23 17:52:00.124999936    1.0  2020-06-23  \n",
              "...                              ...         ...  \n",
              "2020-06-25 17:25:59.875000064    1.0  2020-06-25  \n",
              "2020-06-25 17:25:59.906249984    1.0  2020-06-25  \n",
              "2020-06-25 17:25:59.937499904    1.0  2020-06-25  \n",
              "2020-06-25 17:25:59.968750080    1.0  2020-06-25  \n",
              "2020-06-25 17:26:00.000000000    1.0  2020-06-25  \n",
              "\n",
              "[773768 rows x 8 columns]"
            ],
            "text/html": [
              "\n",
              "  <div id=\"df-d4f3f78c-f371-4fc3-a1b7-f3353bd64322\">\n",
              "    <div class=\"colab-df-container\">\n",
              "      <div>\n",
              "<style scoped>\n",
              "    .dataframe tbody tr th:only-of-type {\n",
              "        vertical-align: middle;\n",
              "    }\n",
              "\n",
              "    .dataframe tbody tr th {\n",
              "        vertical-align: top;\n",
              "    }\n",
              "\n",
              "    .dataframe thead th {\n",
              "        text-align: right;\n",
              "    }\n",
              "</style>\n",
              "<table border=\"1\" class=\"dataframe\">\n",
              "  <thead>\n",
              "    <tr style=\"text-align: right;\">\n",
              "      <th></th>\n",
              "      <th>X</th>\n",
              "      <th>Y</th>\n",
              "      <th>Z</th>\n",
              "      <th>EDA</th>\n",
              "      <th>HR</th>\n",
              "      <th>TEMP</th>\n",
              "      <th>label</th>\n",
              "      <th>date</th>\n",
              "    </tr>\n",
              "    <tr>\n",
              "      <th>datetime</th>\n",
              "      <th></th>\n",
              "      <th></th>\n",
              "      <th></th>\n",
              "      <th></th>\n",
              "      <th></th>\n",
              "      <th></th>\n",
              "      <th></th>\n",
              "      <th></th>\n",
              "    </tr>\n",
              "  </thead>\n",
              "  <tbody>\n",
              "    <tr>\n",
              "      <th>2020-06-23 17:52:00.000000000</th>\n",
              "      <td>-24.0</td>\n",
              "      <td>-4.0</td>\n",
              "      <td>59.0</td>\n",
              "      <td>0.461140</td>\n",
              "      <td>128.97</td>\n",
              "      <td>28.65</td>\n",
              "      <td>1.0</td>\n",
              "      <td>2020-06-23</td>\n",
              "    </tr>\n",
              "    <tr>\n",
              "      <th>2020-06-23 17:52:00.031249920</th>\n",
              "      <td>-24.0</td>\n",
              "      <td>-4.0</td>\n",
              "      <td>59.0</td>\n",
              "      <td>0.461140</td>\n",
              "      <td>128.97</td>\n",
              "      <td>28.65</td>\n",
              "      <td>1.0</td>\n",
              "      <td>2020-06-23</td>\n",
              "    </tr>\n",
              "    <tr>\n",
              "      <th>2020-06-23 17:52:00.062500096</th>\n",
              "      <td>-24.0</td>\n",
              "      <td>-4.0</td>\n",
              "      <td>59.0</td>\n",
              "      <td>0.461140</td>\n",
              "      <td>128.97</td>\n",
              "      <td>28.65</td>\n",
              "      <td>1.0</td>\n",
              "      <td>2020-06-23</td>\n",
              "    </tr>\n",
              "    <tr>\n",
              "      <th>2020-06-23 17:52:00.093750016</th>\n",
              "      <td>-24.0</td>\n",
              "      <td>-4.0</td>\n",
              "      <td>59.0</td>\n",
              "      <td>0.461140</td>\n",
              "      <td>128.97</td>\n",
              "      <td>28.65</td>\n",
              "      <td>1.0</td>\n",
              "      <td>2020-06-23</td>\n",
              "    </tr>\n",
              "    <tr>\n",
              "      <th>2020-06-23 17:52:00.124999936</th>\n",
              "      <td>-24.0</td>\n",
              "      <td>-4.0</td>\n",
              "      <td>59.0</td>\n",
              "      <td>0.461140</td>\n",
              "      <td>128.97</td>\n",
              "      <td>28.65</td>\n",
              "      <td>1.0</td>\n",
              "      <td>2020-06-23</td>\n",
              "    </tr>\n",
              "    <tr>\n",
              "      <th>...</th>\n",
              "      <td>...</td>\n",
              "      <td>...</td>\n",
              "      <td>...</td>\n",
              "      <td>...</td>\n",
              "      <td>...</td>\n",
              "      <td>...</td>\n",
              "      <td>...</td>\n",
              "      <td>...</td>\n",
              "    </tr>\n",
              "    <tr>\n",
              "      <th>2020-06-25 17:25:59.875000064</th>\n",
              "      <td>-22.0</td>\n",
              "      <td>-57.0</td>\n",
              "      <td>-11.0</td>\n",
              "      <td>0.217787</td>\n",
              "      <td>90.00</td>\n",
              "      <td>27.07</td>\n",
              "      <td>1.0</td>\n",
              "      <td>2020-06-25</td>\n",
              "    </tr>\n",
              "    <tr>\n",
              "      <th>2020-06-25 17:25:59.906249984</th>\n",
              "      <td>-23.0</td>\n",
              "      <td>-49.0</td>\n",
              "      <td>-5.0</td>\n",
              "      <td>0.217787</td>\n",
              "      <td>90.00</td>\n",
              "      <td>27.07</td>\n",
              "      <td>1.0</td>\n",
              "      <td>2020-06-25</td>\n",
              "    </tr>\n",
              "    <tr>\n",
              "      <th>2020-06-25 17:25:59.937499904</th>\n",
              "      <td>-22.0</td>\n",
              "      <td>-48.0</td>\n",
              "      <td>-2.0</td>\n",
              "      <td>0.217787</td>\n",
              "      <td>90.00</td>\n",
              "      <td>27.07</td>\n",
              "      <td>1.0</td>\n",
              "      <td>2020-06-25</td>\n",
              "    </tr>\n",
              "    <tr>\n",
              "      <th>2020-06-25 17:25:59.968750080</th>\n",
              "      <td>-20.0</td>\n",
              "      <td>-49.0</td>\n",
              "      <td>-2.0</td>\n",
              "      <td>0.217787</td>\n",
              "      <td>90.00</td>\n",
              "      <td>27.07</td>\n",
              "      <td>1.0</td>\n",
              "      <td>2020-06-25</td>\n",
              "    </tr>\n",
              "    <tr>\n",
              "      <th>2020-06-25 17:26:00.000000000</th>\n",
              "      <td>-20.0</td>\n",
              "      <td>-52.0</td>\n",
              "      <td>-2.0</td>\n",
              "      <td>0.217787</td>\n",
              "      <td>90.05</td>\n",
              "      <td>27.07</td>\n",
              "      <td>1.0</td>\n",
              "      <td>2020-06-25</td>\n",
              "    </tr>\n",
              "  </tbody>\n",
              "</table>\n",
              "<p>773768 rows × 8 columns</p>\n",
              "</div>\n",
              "      <button class=\"colab-df-convert\" onclick=\"convertToInteractive('df-d4f3f78c-f371-4fc3-a1b7-f3353bd64322')\"\n",
              "              title=\"Convert this dataframe to an interactive table.\"\n",
              "              style=\"display:none;\">\n",
              "        \n",
              "  <svg xmlns=\"http://www.w3.org/2000/svg\" height=\"24px\"viewBox=\"0 0 24 24\"\n",
              "       width=\"24px\">\n",
              "    <path d=\"M0 0h24v24H0V0z\" fill=\"none\"/>\n",
              "    <path d=\"M18.56 5.44l.94 2.06.94-2.06 2.06-.94-2.06-.94-.94-2.06-.94 2.06-2.06.94zm-11 1L8.5 8.5l.94-2.06 2.06-.94-2.06-.94L8.5 2.5l-.94 2.06-2.06.94zm10 10l.94 2.06.94-2.06 2.06-.94-2.06-.94-.94-2.06-.94 2.06-2.06.94z\"/><path d=\"M17.41 7.96l-1.37-1.37c-.4-.4-.92-.59-1.43-.59-.52 0-1.04.2-1.43.59L10.3 9.45l-7.72 7.72c-.78.78-.78 2.05 0 2.83L4 21.41c.39.39.9.59 1.41.59.51 0 1.02-.2 1.41-.59l7.78-7.78 2.81-2.81c.8-.78.8-2.07 0-2.86zM5.41 20L4 18.59l7.72-7.72 1.47 1.35L5.41 20z\"/>\n",
              "  </svg>\n",
              "      </button>\n",
              "      \n",
              "  <style>\n",
              "    .colab-df-container {\n",
              "      display:flex;\n",
              "      flex-wrap:wrap;\n",
              "      gap: 12px;\n",
              "    }\n",
              "\n",
              "    .colab-df-convert {\n",
              "      background-color: #E8F0FE;\n",
              "      border: none;\n",
              "      border-radius: 50%;\n",
              "      cursor: pointer;\n",
              "      display: none;\n",
              "      fill: #1967D2;\n",
              "      height: 32px;\n",
              "      padding: 0 0 0 0;\n",
              "      width: 32px;\n",
              "    }\n",
              "\n",
              "    .colab-df-convert:hover {\n",
              "      background-color: #E2EBFA;\n",
              "      box-shadow: 0px 1px 2px rgba(60, 64, 67, 0.3), 0px 1px 3px 1px rgba(60, 64, 67, 0.15);\n",
              "      fill: #174EA6;\n",
              "    }\n",
              "\n",
              "    [theme=dark] .colab-df-convert {\n",
              "      background-color: #3B4455;\n",
              "      fill: #D2E3FC;\n",
              "    }\n",
              "\n",
              "    [theme=dark] .colab-df-convert:hover {\n",
              "      background-color: #434B5C;\n",
              "      box-shadow: 0px 1px 3px 1px rgba(0, 0, 0, 0.15);\n",
              "      filter: drop-shadow(0px 1px 2px rgba(0, 0, 0, 0.3));\n",
              "      fill: #FFFFFF;\n",
              "    }\n",
              "  </style>\n",
              "\n",
              "      <script>\n",
              "        const buttonEl =\n",
              "          document.querySelector('#df-d4f3f78c-f371-4fc3-a1b7-f3353bd64322 button.colab-df-convert');\n",
              "        buttonEl.style.display =\n",
              "          google.colab.kernel.accessAllowed ? 'block' : 'none';\n",
              "\n",
              "        async function convertToInteractive(key) {\n",
              "          const element = document.querySelector('#df-d4f3f78c-f371-4fc3-a1b7-f3353bd64322');\n",
              "          const dataTable =\n",
              "            await google.colab.kernel.invokeFunction('convertToInteractive',\n",
              "                                                     [key], {});\n",
              "          if (!dataTable) return;\n",
              "\n",
              "          const docLinkHtml = 'Like what you see? Visit the ' +\n",
              "            '<a target=\"_blank\" href=https://colab.research.google.com/notebooks/data_table.ipynb>data table notebook</a>'\n",
              "            + ' to learn more about interactive tables.';\n",
              "          element.innerHTML = '';\n",
              "          dataTable['output_type'] = 'display_data';\n",
              "          await google.colab.output.renderOutput(dataTable, element);\n",
              "          const docLink = document.createElement('div');\n",
              "          docLink.innerHTML = docLinkHtml;\n",
              "          element.appendChild(docLink);\n",
              "        }\n",
              "      </script>\n",
              "    </div>\n",
              "  </div>\n",
              "  "
            ]
          },
          "metadata": {},
          "execution_count": 37
        }
      ]
    },
    {
      "cell_type": "code",
      "source": [
        "train= train.drop('date', axis =1)\n",
        "train = train.set_index('datetime')"
      ],
      "metadata": {
        "id": "WB-5aV5g0O3P"
      },
      "execution_count": 38,
      "outputs": []
    },
    {
      "cell_type": "code",
      "source": [
        "#apply standardScaler on Training set excluding label column \n",
        "import numpy as np\n",
        "from sklearn.preprocessing import StandardScaler\n",
        "import seaborn as sns\n",
        "col_names = ['X', 'Y', 'Z', 'EDA', 'HR', 'TEMP', 'label']\n",
        "features = train[col_names]\n",
        "\n",
        "from sklearn.compose import ColumnTransformer\n",
        "from sklearn.preprocessing import StandardScaler\n",
        "\n",
        "ct = ColumnTransformer([\n",
        "        ('somename', StandardScaler(), ['X', 'Y', 'Z', 'EDA', 'HR', 'TEMP'])\n",
        "    ], remainder='passthrough')\n",
        "\n",
        "training = ct.fit_transform(features)"
      ],
      "metadata": {
        "id": "BgPoOxo00R5X"
      },
      "execution_count": 40,
      "outputs": []
    },
    {
      "cell_type": "code",
      "source": [
        "training\n"
      ],
      "metadata": {
        "colab": {
          "base_uri": "https://localhost:8080/"
        },
        "id": "FZzG5v8b0XrO",
        "outputId": "080c65bf-ab63-4fc3-9058-9e5d01efe89a"
      },
      "execution_count": 41,
      "outputs": [
        {
          "output_type": "execute_result",
          "data": {
            "text/plain": [
              "array([[ 0.3562162 , -0.27611214,  1.0869642 , ...,  3.43875187,\n",
              "        -0.47051862,  1.        ],\n",
              "       [ 0.3562162 , -0.27611214,  1.0869642 , ...,  3.43875187,\n",
              "        -0.47051862,  1.        ],\n",
              "       [ 0.3562162 , -0.27611214,  1.0869642 , ...,  3.43875187,\n",
              "        -0.47051862,  1.        ],\n",
              "       ...,\n",
              "       [ 0.43544233, -1.76856339, -1.06421802, ...,  0.55282937,\n",
              "        -2.45784319,  1.        ],\n",
              "       [ 0.51466847, -1.80248273, -1.06421802, ...,  0.55282937,\n",
              "        -2.45784319,  1.        ],\n",
              "       [ 0.51466847, -1.90424077, -1.06421802, ...,  0.55653212,\n",
              "        -2.45784319,  1.        ]])"
            ]
          },
          "metadata": {},
          "execution_count": 41
        }
      ]
    },
    {
      "cell_type": "code",
      "source": [
        "df4= df4.drop('date', axis =1)\n",
        "df4 = df4.set_index('datetime')"
      ],
      "metadata": {
        "id": "PuCFtZ-J0oqm"
      },
      "execution_count": 42,
      "outputs": []
    },
    {
      "cell_type": "code",
      "source": [
        "scaledf4 = ct.transform(df4)\n",
        "scaledf4"
      ],
      "metadata": {
        "colab": {
          "base_uri": "https://localhost:8080/"
        },
        "id": "njERreae0tde",
        "outputId": "4ecde0f7-5cc6-498d-d680-4e44b3c81a02"
      },
      "execution_count": 43,
      "outputs": [
        {
          "output_type": "execute_result",
          "data": {
            "text/plain": [
              "array([[ 0.43544233, -1.59896665,  3.48500339, ...,  0.01000638,\n",
              "         9.3906362 ,  1.        ],\n",
              "       [ 0.43544233, -1.59896665,  3.48500339, ...,  0.01000638,\n",
              "         9.3906362 ,  1.        ],\n",
              "       [ 0.43544233, -1.59896665,  3.48500339, ...,  0.01000638,\n",
              "         9.3906362 ,  1.        ],\n",
              "       ...,\n",
              "       [-0.07952752, -0.58138626,  3.48500339, ...,  1.71178978,\n",
              "         8.86236005,  1.        ],\n",
              "       [-0.07952752, -0.58138626,  3.48500339, ...,  1.71178978,\n",
              "         8.86236005,  1.        ],\n",
              "       [-0.03991445, -0.58138626,  3.48500339, ...,  1.70068153,\n",
              "         8.83720404,  1.        ]])"
            ]
          },
          "metadata": {},
          "execution_count": 43
        }
      ]
    },
    {
      "cell_type": "markdown",
      "source": [
        "Model Tuning"
      ],
      "metadata": {
        "id": "4n9VvQZ402Nn"
      }
    },
    {
      "cell_type": "code",
      "source": [
        "#testing set\n",
        "x_train = training[:,:-1]\n",
        "y_train = training[:,-1]"
      ],
      "metadata": {
        "id": "xmoaKVXk0yhX"
      },
      "execution_count": 44,
      "outputs": []
    },
    {
      "cell_type": "markdown",
      "source": [
        "\n",
        "KNeighborsClassifier\n",
        "---\n",
        "\n"
      ],
      "metadata": {
        "id": "kEgfrKIi1fLX"
      }
    },
    {
      "cell_type": "code",
      "source": [
        "#Here , we used grid search cv to find best parameter. In this .ipynb I didn't ran this part of code as it is taking more than 2 hours to execute.\n",
        "from sklearn.model_selection import GridSearchCV\n",
        "from sklearn.cluster import KMeans\n",
        "from sklearn.neighbors import KNeighborsClassifier\n",
        "logeg =KNeighborsClassifier()\n",
        "param_grid = {'n_neighbors':[5,10], 'algorithm': ['auto', 'ball_tree', 'kd_tree', 'brute']}\n",
        "grid_search = GridSearchCV(logeg, param_grid, cv=5)\n",
        "grid_search.fit(x_train, y_train)\n",
        "print('Best parameters:', grid_search.best_params_)\n",
        "\n",
        "#n_neighbors = 10 and algorithms = aute are the best values for this cell"
      ],
      "metadata": {
        "id": "S_lEFM8O08dG"
      },
      "execution_count": null,
      "outputs": []
    },
    {
      "cell_type": "code",
      "source": [
        "from pandas.core.frame import algorithms\n",
        "from sklearn.neighbors import KNeighborsClassifier\n",
        "knn =KNeighborsClassifier(n_neighbors= 10, algorithm = 'auto')\n",
        "knn.fit(x_train, y_train)"
      ],
      "metadata": {
        "colab": {
          "base_uri": "https://localhost:8080/",
          "height": 75
        },
        "id": "lHF2eVAJ19pO",
        "outputId": "b8ed85d1-dc56-4142-a96d-1a65202c524f"
      },
      "execution_count": 86,
      "outputs": [
        {
          "output_type": "execute_result",
          "data": {
            "text/plain": [
              "KNeighborsClassifier(n_neighbors=10)"
            ],
            "text/html": [
              "<style>#sk-container-id-5 {color: black;background-color: white;}#sk-container-id-5 pre{padding: 0;}#sk-container-id-5 div.sk-toggleable {background-color: white;}#sk-container-id-5 label.sk-toggleable__label {cursor: pointer;display: block;width: 100%;margin-bottom: 0;padding: 0.3em;box-sizing: border-box;text-align: center;}#sk-container-id-5 label.sk-toggleable__label-arrow:before {content: \"▸\";float: left;margin-right: 0.25em;color: #696969;}#sk-container-id-5 label.sk-toggleable__label-arrow:hover:before {color: black;}#sk-container-id-5 div.sk-estimator:hover label.sk-toggleable__label-arrow:before {color: black;}#sk-container-id-5 div.sk-toggleable__content {max-height: 0;max-width: 0;overflow: hidden;text-align: left;background-color: #f0f8ff;}#sk-container-id-5 div.sk-toggleable__content pre {margin: 0.2em;color: black;border-radius: 0.25em;background-color: #f0f8ff;}#sk-container-id-5 input.sk-toggleable__control:checked~div.sk-toggleable__content {max-height: 200px;max-width: 100%;overflow: auto;}#sk-container-id-5 input.sk-toggleable__control:checked~label.sk-toggleable__label-arrow:before {content: \"▾\";}#sk-container-id-5 div.sk-estimator input.sk-toggleable__control:checked~label.sk-toggleable__label {background-color: #d4ebff;}#sk-container-id-5 div.sk-label input.sk-toggleable__control:checked~label.sk-toggleable__label {background-color: #d4ebff;}#sk-container-id-5 input.sk-hidden--visually {border: 0;clip: rect(1px 1px 1px 1px);clip: rect(1px, 1px, 1px, 1px);height: 1px;margin: -1px;overflow: hidden;padding: 0;position: absolute;width: 1px;}#sk-container-id-5 div.sk-estimator {font-family: monospace;background-color: #f0f8ff;border: 1px dotted black;border-radius: 0.25em;box-sizing: border-box;margin-bottom: 0.5em;}#sk-container-id-5 div.sk-estimator:hover {background-color: #d4ebff;}#sk-container-id-5 div.sk-parallel-item::after {content: \"\";width: 100%;border-bottom: 1px solid gray;flex-grow: 1;}#sk-container-id-5 div.sk-label:hover label.sk-toggleable__label {background-color: #d4ebff;}#sk-container-id-5 div.sk-serial::before {content: \"\";position: absolute;border-left: 1px solid gray;box-sizing: border-box;top: 0;bottom: 0;left: 50%;z-index: 0;}#sk-container-id-5 div.sk-serial {display: flex;flex-direction: column;align-items: center;background-color: white;padding-right: 0.2em;padding-left: 0.2em;position: relative;}#sk-container-id-5 div.sk-item {position: relative;z-index: 1;}#sk-container-id-5 div.sk-parallel {display: flex;align-items: stretch;justify-content: center;background-color: white;position: relative;}#sk-container-id-5 div.sk-item::before, #sk-container-id-5 div.sk-parallel-item::before {content: \"\";position: absolute;border-left: 1px solid gray;box-sizing: border-box;top: 0;bottom: 0;left: 50%;z-index: -1;}#sk-container-id-5 div.sk-parallel-item {display: flex;flex-direction: column;z-index: 1;position: relative;background-color: white;}#sk-container-id-5 div.sk-parallel-item:first-child::after {align-self: flex-end;width: 50%;}#sk-container-id-5 div.sk-parallel-item:last-child::after {align-self: flex-start;width: 50%;}#sk-container-id-5 div.sk-parallel-item:only-child::after {width: 0;}#sk-container-id-5 div.sk-dashed-wrapped {border: 1px dashed gray;margin: 0 0.4em 0.5em 0.4em;box-sizing: border-box;padding-bottom: 0.4em;background-color: white;}#sk-container-id-5 div.sk-label label {font-family: monospace;font-weight: bold;display: inline-block;line-height: 1.2em;}#sk-container-id-5 div.sk-label-container {text-align: center;}#sk-container-id-5 div.sk-container {/* jupyter's `normalize.less` sets `[hidden] { display: none; }` but bootstrap.min.css set `[hidden] { display: none !important; }` so we also need the `!important` here to be able to override the default hidden behavior on the sphinx rendered scikit-learn.org. See: https://github.com/scikit-learn/scikit-learn/issues/21755 */display: inline-block !important;position: relative;}#sk-container-id-5 div.sk-text-repr-fallback {display: none;}</style><div id=\"sk-container-id-5\" class=\"sk-top-container\"><div class=\"sk-text-repr-fallback\"><pre>KNeighborsClassifier(n_neighbors=10)</pre><b>In a Jupyter environment, please rerun this cell to show the HTML representation or trust the notebook. <br />On GitHub, the HTML representation is unable to render, please try loading this page with nbviewer.org.</b></div><div class=\"sk-container\" hidden><div class=\"sk-item\"><div class=\"sk-estimator sk-toggleable\"><input class=\"sk-toggleable__control sk-hidden--visually\" id=\"sk-estimator-id-5\" type=\"checkbox\" checked><label for=\"sk-estimator-id-5\" class=\"sk-toggleable__label sk-toggleable__label-arrow\">KNeighborsClassifier</label><div class=\"sk-toggleable__content\"><pre>KNeighborsClassifier(n_neighbors=10)</pre></div></div></div></div></div>"
            ]
          },
          "metadata": {},
          "execution_count": 86
        }
      ]
    },
    {
      "cell_type": "code",
      "source": [
        "#Validation set (df4)\n",
        "X_val = scaledf4[:,:-1]\n",
        "y_val = scaledf4[:,-1]"
      ],
      "metadata": {
        "id": "GTKC7oSl2AMX"
      },
      "execution_count": 87,
      "outputs": []
    },
    {
      "cell_type": "code",
      "source": [
        "from sklearn.metrics import accuracy_score\n",
        "y_pred = knn.predict(X_val)\n",
        "accuracy = accuracy_score(y_val, y_pred)\n",
        "print('Val accuracy:', accuracy)"
      ],
      "metadata": {
        "colab": {
          "base_uri": "https://localhost:8080/"
        },
        "id": "5YX5HZBv2HjI",
        "outputId": "0d22b53c-ba95-47e8-c329-964c5ca558eb"
      },
      "execution_count": 88,
      "outputs": [
        {
          "output_type": "stream",
          "name": "stdout",
          "text": [
            "Val accuracy: 0.0\n"
          ]
        }
      ]
    },
    {
      "cell_type": "code",
      "source": [
        "#applying standard scaler on test set or df5\n",
        "scaledf5 = ct.transform(df5)"
      ],
      "metadata": {
        "id": "QlY-3nZX2STY"
      },
      "execution_count": 89,
      "outputs": []
    },
    {
      "cell_type": "code",
      "source": [
        "X_test = scaledf5[:,:-1]\n",
        "y_test = scaledf5[:,-1]\n",
        "y_pred = knn.predict(X_test)\n",
        "accuracy = accuracy_score(y_test, y_pred)\n",
        "print('Test accuracy:', accuracy)"
      ],
      "metadata": {
        "colab": {
          "base_uri": "https://localhost:8080/"
        },
        "id": "HEk6RW992g2B",
        "outputId": "bd1ca214-cb3a-453e-cccc-2b96c2074366"
      },
      "execution_count": 90,
      "outputs": [
        {
          "output_type": "stream",
          "name": "stdout",
          "text": [
            "Test accuracy: 0.45365938344783113\n"
          ]
        }
      ]
    },
    {
      "cell_type": "code",
      "source": [
        "from sklearn.metrics import accuracy_score, f1_score, precision_score, recall_score, classification_report, confusion_matrix\n",
        "f1score   = f1_score        (y_test, y_pred, average ='weighted')\n",
        "recall    = recall_score    (y_test, y_pred, average = 'weighted')\n",
        "precision = precision_score (y_test, y_pred, average = 'weighted')\n",
        "accuracy  = accuracy_score  (y_test, y_pred)\n",
        "\n",
        "print('acc =', accuracy)\n",
        "print('precision =', precision)\n",
        "print('recall =', recall) \n",
        "print('f1 =', f1score)\n",
        "#here we tried various average value but we are getting highest value in the weighted ave."
      ],
      "metadata": {
        "colab": {
          "base_uri": "https://localhost:8080/"
        },
        "id": "f74CAOkZ2jp5",
        "outputId": "1e475d1f-7a2c-4c43-e116-22367c49fd33"
      },
      "execution_count": 91,
      "outputs": [
        {
          "output_type": "stream",
          "name": "stdout",
          "text": [
            "acc = 0.45365938344783113\n",
            "precision = 1.0\n",
            "recall = 0.45365938344783113\n",
            "f1 = 0.6241618753518844\n"
          ]
        },
        {
          "output_type": "stream",
          "name": "stderr",
          "text": [
            "/usr/local/lib/python3.9/dist-packages/sklearn/metrics/_classification.py:1344: UndefinedMetricWarning: Recall is ill-defined and being set to 0.0 in labels with no true samples. Use `zero_division` parameter to control this behavior.\n",
            "  _warn_prf(average, modifier, msg_start, len(result))\n"
          ]
        }
      ]
    },
    {
      "cell_type": "code",
      "source": [
        "plt.plot(y_pred, label = \"y_pred\", linestyle=\"-\", color =\"blue\")\n",
        "plt.plot(y_test, label = \"y_test\",  linestyle=\"--\", color =\"green\")\n",
        "plt.xlabel(\"y_Test\")\n",
        "plt.ylabel(\"label\")"
      ],
      "metadata": {
        "colab": {
          "base_uri": "https://localhost:8080/",
          "height": 467
        },
        "id": "N4aWyM4a2nMx",
        "outputId": "9a4dd805-072a-45de-fbe3-573a9e9b14cf"
      },
      "execution_count": 92,
      "outputs": [
        {
          "output_type": "execute_result",
          "data": {
            "text/plain": [
              "Text(0, 0.5, 'label')"
            ]
          },
          "metadata": {},
          "execution_count": 92
        },
        {
          "output_type": "display_data",
          "data": {
            "text/plain": [
              "<Figure size 640x480 with 1 Axes>"
            ],
            "image/png": "[encoded data removed]"
          },
          "metadata": {}
        }
      ]
    },
    {
      "cell_type": "markdown",
      "source": [
        "Decision Tree classifier"
      ],
      "metadata": {
        "id": "w95I4Yb-4pqI"
      }
    },
    {
      "cell_type": "code",
      "source": [
        "#Best parameters: {'max_depth': 5, 'min_samples_leaf': 1, 'min_samples_split': 2}\n",
        "from sklearn.model_selection import GridSearchCV\n",
        "from sklearn.cluster import KMeans\n",
        "from sklearn.tree import DecisionTreeClassifier\n",
        "from sklearn.model_selection import GridSearchCV\n",
        "from sklearn.metrics import silhouette_score\n",
        "\n",
        "# Define the decision tree classifier\n",
        "dtc = DecisionTreeClassifier()\n",
        "\n",
        "# Define the hyperparameters to tune using GridSearchCV\n",
        "params = {\n",
        "    'max_depth': [2, 5, 10, 15],\n",
        "    'min_samples_split': [2, 5, 10, 15],\n",
        "    'min_samples_leaf': [1, 2, 5, 10]\n",
        "}\n",
        "\n",
        "# Perform GridSearchCV to find the best hyperparameters\n",
        "grid_search = GridSearchCV(dtc, params, cv=5)\n",
        "grid_search.fit(x_train, y_train)\n",
        "print('Best parameters:', grid_search.best_params_)"
      ],
      "metadata": {
        "colab": {
          "base_uri": "https://localhost:8080/",
          "height": 380
        },
        "id": "in7dR73q3iKS",
        "outputId": "c383efcd-53eb-46e2-fb57-fd49e7aa18b5"
      },
      "execution_count": 59,
      "outputs": [
        {
          "output_type": "error",
          "ename": "KeyboardInterrupt",
          "evalue": "ignored",
          "traceback": [
            "\u001b[0;31m---------------------------------------------------------------------------\u001b[0m",
            "\u001b[0;31mKeyboardInterrupt\u001b[0m                         Traceback (most recent call last)",
            "\u001b[0;32m<ipython-input-59-dd97c8cccc5e>\u001b[0m in \u001b[0;36m<cell line: 20>\u001b[0;34m()\u001b[0m\n\u001b[1;32m     18\u001b[0m \u001b[0;31m# Perform GridSearchCV to find the best hyperparameters\u001b[0m\u001b[0;34m\u001b[0m\u001b[0;34m\u001b[0m\u001b[0m\n\u001b[1;32m     19\u001b[0m \u001b[0mgrid_search\u001b[0m \u001b[0;34m=\u001b[0m \u001b[0mGridSearchCV\u001b[0m\u001b[0;34m(\u001b[0m\u001b[0mdtc\u001b[0m\u001b[0;34m,\u001b[0m \u001b[0mparams\u001b[0m\u001b[0;34m,\u001b[0m \u001b[0mcv\u001b[0m\u001b[0;34m=\u001b[0m\u001b[0;36m5\u001b[0m\u001b[0;34m)\u001b[0m\u001b[0;34m\u001b[0m\u001b[0;34m\u001b[0m\u001b[0m\n\u001b[0;32m---> 20\u001b[0;31m \u001b[0mgrid_search\u001b[0m\u001b[0;34m.\u001b[0m\u001b[0mfit\u001b[0m\u001b[0;34m(\u001b[0m\u001b[0mx_train\u001b[0m\u001b[0;34m,\u001b[0m \u001b[0my_train\u001b[0m\u001b[0;34m)\u001b[0m\u001b[0;34m\u001b[0m\u001b[0;34m\u001b[0m\u001b[0m\n\u001b[0m\u001b[1;32m     21\u001b[0m \u001b[0mprint\u001b[0m\u001b[0;34m(\u001b[0m\u001b[0;34m'Best parameters:'\u001b[0m\u001b[0;34m,\u001b[0m \u001b[0mgrid_search\u001b[0m\u001b[0;34m.\u001b[0m\u001b[0mbest_params_\u001b[0m\u001b[0;34m)\u001b[0m\u001b[0;34m\u001b[0m\u001b[0;34m\u001b[0m\u001b[0m\n",
            "\u001b[0;32m/usr/local/lib/python3.9/dist-packages/sklearn/model_selection/_search.py\u001b[0m in \u001b[0;36mfit\u001b[0;34m(self, X, y, groups, **fit_params)\u001b[0m\n\u001b[1;32m    872\u001b[0m                 \u001b[0;32mreturn\u001b[0m \u001b[0mresults\u001b[0m\u001b[0;34m\u001b[0m\u001b[0;34m\u001b[0m\u001b[0m\n\u001b[1;32m    873\u001b[0m \u001b[0;34m\u001b[0m\u001b[0m\n\u001b[0;32m--> 874\u001b[0;31m             \u001b[0mself\u001b[0m\u001b[0;34m.\u001b[0m\u001b[0m_run_search\u001b[0m\u001b[0;34m(\u001b[0m\u001b[0mevaluate_candidates\u001b[0m\u001b[0;34m)\u001b[0m\u001b[0;34m\u001b[0m\u001b[0;34m\u001b[0m\u001b[0m\n\u001b[0m\u001b[1;32m    875\u001b[0m \u001b[0;34m\u001b[0m\u001b[0m\n\u001b[1;32m    876\u001b[0m             \u001b[0;31m# multimetric is determined here because in the case of a callable\u001b[0m\u001b[0;34m\u001b[0m\u001b[0;34m\u001b[0m\u001b[0m\n",
            "\u001b[0;32m/usr/local/lib/python3.9/dist-packages/sklearn/model_selection/_search.py\u001b[0m in \u001b[0;36m_run_search\u001b[0;34m(self, evaluate_candidates)\u001b[0m\n\u001b[1;32m   1386\u001b[0m     \u001b[0;32mdef\u001b[0m \u001b[0m_run_search\u001b[0m\u001b[0;34m(\u001b[0m\u001b[0mself\u001b[0m\u001b[0;34m,\u001b[0m \u001b[0mevaluate_candidates\u001b[0m\u001b[0;34m)\u001b[0m\u001b[0;34m:\u001b[0m\u001b[0;34m\u001b[0m\u001b[0;34m\u001b[0m\u001b[0m\n\u001b[1;32m   1387\u001b[0m         \u001b[0;34m\"\"\"Search all candidates in param_grid\"\"\"\u001b[0m\u001b[0;34m\u001b[0m\u001b[0;34m\u001b[0m\u001b[0m\n\u001b[0;32m-> 1388\u001b[0;31m         \u001b[0mevaluate_candidates\u001b[0m\u001b[0;34m(\u001b[0m\u001b[0mParameterGrid\u001b[0m\u001b[0;34m(\u001b[0m\u001b[0mself\u001b[0m\u001b[0;34m.\u001b[0m\u001b[0mparam_grid\u001b[0m\u001b[0;34m)\u001b[0m\u001b[0;34m)\u001b[0m\u001b[0;34m\u001b[0m\u001b[0;34m\u001b[0m\u001b[0m\n\u001b[0m\u001b[1;32m   1389\u001b[0m \u001b[0;34m\u001b[0m\u001b[0m\n\u001b[1;32m   1390\u001b[0m \u001b[0;34m\u001b[0m\u001b[0m\n",
            "\u001b[0;32m/usr/local/lib/python3.9/dist-packages/sklearn/model_selection/_search.py\u001b[0m in \u001b[0;36mevaluate_candidates\u001b[0;34m(candidate_params, cv, more_results)\u001b[0m\n\u001b[1;32m    819\u001b[0m                     )\n\u001b[1;32m    820\u001b[0m \u001b[0;34m\u001b[0m\u001b[0m\n\u001b[0;32m--> 821\u001b[0;31m                 out = parallel(\n\u001b[0m\u001b[1;32m    822\u001b[0m                     delayed(_fit_and_score)(\n\u001b[1;32m    823\u001b[0m                         \u001b[0mclone\u001b[0m\u001b[0;34m(\u001b[0m\u001b[0mbase_estimator\u001b[0m\u001b[0;34m)\u001b[0m\u001b[0;34m,\u001b[0m\u001b[0;34m\u001b[0m\u001b[0;34m\u001b[0m\u001b[0m\n",
            "\u001b[0;32m/usr/local/lib/python3.9/dist-packages/sklearn/utils/parallel.py\u001b[0m in \u001b[0;36m__call__\u001b[0;34m(self, iterable)\u001b[0m\n\u001b[1;32m     61\u001b[0m             \u001b[0;32mfor\u001b[0m \u001b[0mdelayed_func\u001b[0m\u001b[0;34m,\u001b[0m \u001b[0margs\u001b[0m\u001b[0;34m,\u001b[0m \u001b[0mkwargs\u001b[0m \u001b[0;32min\u001b[0m \u001b[0miterable\u001b[0m\u001b[0;34m\u001b[0m\u001b[0;34m\u001b[0m\u001b[0m\n\u001b[1;32m     62\u001b[0m         )\n\u001b[0;32m---> 63\u001b[0;31m         \u001b[0;32mreturn\u001b[0m \u001b[0msuper\u001b[0m\u001b[0;34m(\u001b[0m\u001b[0;34m)\u001b[0m\u001b[0;34m.\u001b[0m\u001b[0m__call__\u001b[0m\u001b[0;34m(\u001b[0m\u001b[0miterable_with_config\u001b[0m\u001b[0;34m)\u001b[0m\u001b[0;34m\u001b[0m\u001b[0;34m\u001b[0m\u001b[0m\n\u001b[0m\u001b[1;32m     64\u001b[0m \u001b[0;34m\u001b[0m\u001b[0m\n\u001b[1;32m     65\u001b[0m \u001b[0;34m\u001b[0m\u001b[0m\n",
            "\u001b[0;32m/usr/local/lib/python3.9/dist-packages/joblib/parallel.py\u001b[0m in \u001b[0;36m__call__\u001b[0;34m(self, iterable)\u001b[0m\n\u001b[1;32m   1086\u001b[0m                 \u001b[0mself\u001b[0m\u001b[0;34m.\u001b[0m\u001b[0m_iterating\u001b[0m \u001b[0;34m=\u001b[0m \u001b[0mself\u001b[0m\u001b[0;34m.\u001b[0m\u001b[0m_original_iterator\u001b[0m \u001b[0;32mis\u001b[0m \u001b[0;32mnot\u001b[0m \u001b[0;32mNone\u001b[0m\u001b[0;34m\u001b[0m\u001b[0;34m\u001b[0m\u001b[0m\n\u001b[1;32m   1087\u001b[0m \u001b[0;34m\u001b[0m\u001b[0m\n\u001b[0;32m-> 1088\u001b[0;31m             \u001b[0;32mwhile\u001b[0m \u001b[0mself\u001b[0m\u001b[0;34m.\u001b[0m\u001b[0mdispatch_one_batch\u001b[0m\u001b[0;34m(\u001b[0m\u001b[0miterator\u001b[0m\u001b[0;34m)\u001b[0m\u001b[0;34m:\u001b[0m\u001b[0;34m\u001b[0m\u001b[0;34m\u001b[0m\u001b[0m\n\u001b[0m\u001b[1;32m   1089\u001b[0m                 \u001b[0;32mpass\u001b[0m\u001b[0;34m\u001b[0m\u001b[0;34m\u001b[0m\u001b[0m\n\u001b[1;32m   1090\u001b[0m \u001b[0;34m\u001b[0m\u001b[0m\n",
            "\u001b[0;32m/usr/local/lib/python3.9/dist-packages/joblib/parallel.py\u001b[0m in \u001b[0;36mdispatch_one_batch\u001b[0;34m(self, iterator)\u001b[0m\n\u001b[1;32m    899\u001b[0m                 \u001b[0;32mreturn\u001b[0m \u001b[0;32mFalse\u001b[0m\u001b[0;34m\u001b[0m\u001b[0;34m\u001b[0m\u001b[0m\n\u001b[1;32m    900\u001b[0m             \u001b[0;32melse\u001b[0m\u001b[0;34m:\u001b[0m\u001b[0;34m\u001b[0m\u001b[0;34m\u001b[0m\u001b[0m\n\u001b[0;32m--> 901\u001b[0;31m                 \u001b[0mself\u001b[0m\u001b[0;34m.\u001b[0m\u001b[0m_dispatch\u001b[0m\u001b[0;34m(\u001b[0m\u001b[0mtasks\u001b[0m\u001b[0;34m)\u001b[0m\u001b[0;34m\u001b[0m\u001b[0;34m\u001b[0m\u001b[0m\n\u001b[0m\u001b[1;32m    902\u001b[0m                 \u001b[0;32mreturn\u001b[0m \u001b[0;32mTrue\u001b[0m\u001b[0;34m\u001b[0m\u001b[0;34m\u001b[0m\u001b[0m\n\u001b[1;32m    903\u001b[0m \u001b[0;34m\u001b[0m\u001b[0m\n",
            "\u001b[0;32m/usr/local/lib/python3.9/dist-packages/joblib/parallel.py\u001b[0m in \u001b[0;36m_dispatch\u001b[0;34m(self, batch)\u001b[0m\n\u001b[1;32m    817\u001b[0m         \u001b[0;32mwith\u001b[0m \u001b[0mself\u001b[0m\u001b[0;34m.\u001b[0m\u001b[0m_lock\u001b[0m\u001b[0;34m:\u001b[0m\u001b[0;34m\u001b[0m\u001b[0;34m\u001b[0m\u001b[0m\n\u001b[1;32m    818\u001b[0m             \u001b[0mjob_idx\u001b[0m \u001b[0;34m=\u001b[0m \u001b[0mlen\u001b[0m\u001b[0;34m(\u001b[0m\u001b[0mself\u001b[0m\u001b[0;34m.\u001b[0m\u001b[0m_jobs\u001b[0m\u001b[0;34m)\u001b[0m\u001b[0;34m\u001b[0m\u001b[0;34m\u001b[0m\u001b[0m\n\u001b[0;32m--> 819\u001b[0;31m             \u001b[0mjob\u001b[0m \u001b[0;34m=\u001b[0m \u001b[0mself\u001b[0m\u001b[0;34m.\u001b[0m\u001b[0m_backend\u001b[0m\u001b[0;34m.\u001b[0m\u001b[0mapply_async\u001b[0m\u001b[0;34m(\u001b[0m\u001b[0mbatch\u001b[0m\u001b[0;34m,\u001b[0m \u001b[0mcallback\u001b[0m\u001b[0;34m=\u001b[0m\u001b[0mcb\u001b[0m\u001b[0;34m)\u001b[0m\u001b[0;34m\u001b[0m\u001b[0;34m\u001b[0m\u001b[0m\n\u001b[0m\u001b[1;32m    820\u001b[0m             \u001b[0;31m# A job can complete so quickly than its callback is\u001b[0m\u001b[0;34m\u001b[0m\u001b[0;34m\u001b[0m\u001b[0m\n\u001b[1;32m    821\u001b[0m             \u001b[0;31m# called before we get here, causing self._jobs to\u001b[0m\u001b[0;34m\u001b[0m\u001b[0;34m\u001b[0m\u001b[0m\n",
            "\u001b[0;32m/usr/local/lib/python3.9/dist-packages/joblib/_parallel_backends.py\u001b[0m in \u001b[0;36mapply_async\u001b[0;34m(self, func, callback)\u001b[0m\n\u001b[1;32m    206\u001b[0m     \u001b[0;32mdef\u001b[0m \u001b[0mapply_async\u001b[0m\u001b[0;34m(\u001b[0m\u001b[0mself\u001b[0m\u001b[0;34m,\u001b[0m \u001b[0mfunc\u001b[0m\u001b[0;34m,\u001b[0m \u001b[0mcallback\u001b[0m\u001b[0;34m=\u001b[0m\u001b[0;32mNone\u001b[0m\u001b[0;34m)\u001b[0m\u001b[0;34m:\u001b[0m\u001b[0;34m\u001b[0m\u001b[0;34m\u001b[0m\u001b[0m\n\u001b[1;32m    207\u001b[0m         \u001b[0;34m\"\"\"Schedule a func to be run\"\"\"\u001b[0m\u001b[0;34m\u001b[0m\u001b[0;34m\u001b[0m\u001b[0m\n\u001b[0;32m--> 208\u001b[0;31m         \u001b[0mresult\u001b[0m \u001b[0;34m=\u001b[0m \u001b[0mImmediateResult\u001b[0m\u001b[0;34m(\u001b[0m\u001b[0mfunc\u001b[0m\u001b[0;34m)\u001b[0m\u001b[0;34m\u001b[0m\u001b[0;34m\u001b[0m\u001b[0m\n\u001b[0m\u001b[1;32m    209\u001b[0m         \u001b[0;32mif\u001b[0m \u001b[0mcallback\u001b[0m\u001b[0;34m:\u001b[0m\u001b[0;34m\u001b[0m\u001b[0;34m\u001b[0m\u001b[0m\n\u001b[1;32m    210\u001b[0m             \u001b[0mcallback\u001b[0m\u001b[0;34m(\u001b[0m\u001b[0mresult\u001b[0m\u001b[0;34m)\u001b[0m\u001b[0;34m\u001b[0m\u001b[0;34m\u001b[0m\u001b[0m\n",
            "\u001b[0;32m/usr/local/lib/python3.9/dist-packages/joblib/_parallel_backends.py\u001b[0m in \u001b[0;36m__init__\u001b[0;34m(self, batch)\u001b[0m\n\u001b[1;32m    595\u001b[0m         \u001b[0;31m# Don't delay the application, to avoid keeping the input\u001b[0m\u001b[0;34m\u001b[0m\u001b[0;34m\u001b[0m\u001b[0m\n\u001b[1;32m    596\u001b[0m         \u001b[0;31m# arguments in memory\u001b[0m\u001b[0;34m\u001b[0m\u001b[0;34m\u001b[0m\u001b[0m\n\u001b[0;32m--> 597\u001b[0;31m         \u001b[0mself\u001b[0m\u001b[0;34m.\u001b[0m\u001b[0mresults\u001b[0m \u001b[0;34m=\u001b[0m \u001b[0mbatch\u001b[0m\u001b[0;34m(\u001b[0m\u001b[0;34m)\u001b[0m\u001b[0;34m\u001b[0m\u001b[0;34m\u001b[0m\u001b[0m\n\u001b[0m\u001b[1;32m    598\u001b[0m \u001b[0;34m\u001b[0m\u001b[0m\n\u001b[1;32m    599\u001b[0m     \u001b[0;32mdef\u001b[0m \u001b[0mget\u001b[0m\u001b[0;34m(\u001b[0m\u001b[0mself\u001b[0m\u001b[0;34m)\u001b[0m\u001b[0;34m:\u001b[0m\u001b[0;34m\u001b[0m\u001b[0;34m\u001b[0m\u001b[0m\n",
            "\u001b[0;32m/usr/local/lib/python3.9/dist-packages/joblib/parallel.py\u001b[0m in \u001b[0;36m__call__\u001b[0;34m(self)\u001b[0m\n\u001b[1;32m    286\u001b[0m         \u001b[0;31m# change the default number of processes to -1\u001b[0m\u001b[0;34m\u001b[0m\u001b[0;34m\u001b[0m\u001b[0m\n\u001b[1;32m    287\u001b[0m         \u001b[0;32mwith\u001b[0m \u001b[0mparallel_backend\u001b[0m\u001b[0;34m(\u001b[0m\u001b[0mself\u001b[0m\u001b[0;34m.\u001b[0m\u001b[0m_backend\u001b[0m\u001b[0;34m,\u001b[0m \u001b[0mn_jobs\u001b[0m\u001b[0;34m=\u001b[0m\u001b[0mself\u001b[0m\u001b[0;34m.\u001b[0m\u001b[0m_n_jobs\u001b[0m\u001b[0;34m)\u001b[0m\u001b[0;34m:\u001b[0m\u001b[0;34m\u001b[0m\u001b[0;34m\u001b[0m\u001b[0m\n\u001b[0;32m--> 288\u001b[0;31m             return [func(*args, **kwargs)\n\u001b[0m\u001b[1;32m    289\u001b[0m                     for func, args, kwargs in self.items]\n\u001b[1;32m    290\u001b[0m \u001b[0;34m\u001b[0m\u001b[0m\n",
            "\u001b[0;32m/usr/local/lib/python3.9/dist-packages/joblib/parallel.py\u001b[0m in \u001b[0;36m<listcomp>\u001b[0;34m(.0)\u001b[0m\n\u001b[1;32m    286\u001b[0m         \u001b[0;31m# change the default number of processes to -1\u001b[0m\u001b[0;34m\u001b[0m\u001b[0;34m\u001b[0m\u001b[0m\n\u001b[1;32m    287\u001b[0m         \u001b[0;32mwith\u001b[0m \u001b[0mparallel_backend\u001b[0m\u001b[0;34m(\u001b[0m\u001b[0mself\u001b[0m\u001b[0;34m.\u001b[0m\u001b[0m_backend\u001b[0m\u001b[0;34m,\u001b[0m \u001b[0mn_jobs\u001b[0m\u001b[0;34m=\u001b[0m\u001b[0mself\u001b[0m\u001b[0;34m.\u001b[0m\u001b[0m_n_jobs\u001b[0m\u001b[0;34m)\u001b[0m\u001b[0;34m:\u001b[0m\u001b[0;34m\u001b[0m\u001b[0;34m\u001b[0m\u001b[0m\n\u001b[0;32m--> 288\u001b[0;31m             return [func(*args, **kwargs)\n\u001b[0m\u001b[1;32m    289\u001b[0m                     for func, args, kwargs in self.items]\n\u001b[1;32m    290\u001b[0m \u001b[0;34m\u001b[0m\u001b[0m\n",
            "\u001b[0;32m/usr/local/lib/python3.9/dist-packages/sklearn/utils/parallel.py\u001b[0m in \u001b[0;36m__call__\u001b[0;34m(self, *args, **kwargs)\u001b[0m\n\u001b[1;32m    121\u001b[0m             \u001b[0mconfig\u001b[0m \u001b[0;34m=\u001b[0m \u001b[0;34m{\u001b[0m\u001b[0;34m}\u001b[0m\u001b[0;34m\u001b[0m\u001b[0;34m\u001b[0m\u001b[0m\n\u001b[1;32m    122\u001b[0m         \u001b[0;32mwith\u001b[0m \u001b[0mconfig_context\u001b[0m\u001b[0;34m(\u001b[0m\u001b[0;34m**\u001b[0m\u001b[0mconfig\u001b[0m\u001b[0;34m)\u001b[0m\u001b[0;34m:\u001b[0m\u001b[0;34m\u001b[0m\u001b[0;34m\u001b[0m\u001b[0m\n\u001b[0;32m--> 123\u001b[0;31m             \u001b[0;32mreturn\u001b[0m \u001b[0mself\u001b[0m\u001b[0;34m.\u001b[0m\u001b[0mfunction\u001b[0m\u001b[0;34m(\u001b[0m\u001b[0;34m*\u001b[0m\u001b[0margs\u001b[0m\u001b[0;34m,\u001b[0m \u001b[0;34m**\u001b[0m\u001b[0mkwargs\u001b[0m\u001b[0;34m)\u001b[0m\u001b[0;34m\u001b[0m\u001b[0;34m\u001b[0m\u001b[0m\n\u001b[0m",
            "\u001b[0;32m/usr/local/lib/python3.9/dist-packages/sklearn/model_selection/_validation.py\u001b[0m in \u001b[0;36m_fit_and_score\u001b[0;34m(estimator, X, y, scorer, train, test, verbose, parameters, fit_params, return_train_score, return_parameters, return_n_test_samples, return_times, return_estimator, split_progress, candidate_progress, error_score)\u001b[0m\n\u001b[1;32m    684\u001b[0m             \u001b[0mestimator\u001b[0m\u001b[0;34m.\u001b[0m\u001b[0mfit\u001b[0m\u001b[0;34m(\u001b[0m\u001b[0mX_train\u001b[0m\u001b[0;34m,\u001b[0m \u001b[0;34m**\u001b[0m\u001b[0mfit_params\u001b[0m\u001b[0;34m)\u001b[0m\u001b[0;34m\u001b[0m\u001b[0;34m\u001b[0m\u001b[0m\n\u001b[1;32m    685\u001b[0m         \u001b[0;32melse\u001b[0m\u001b[0;34m:\u001b[0m\u001b[0;34m\u001b[0m\u001b[0;34m\u001b[0m\u001b[0m\n\u001b[0;32m--> 686\u001b[0;31m             \u001b[0mestimator\u001b[0m\u001b[0;34m.\u001b[0m\u001b[0mfit\u001b[0m\u001b[0;34m(\u001b[0m\u001b[0mX_train\u001b[0m\u001b[0;34m,\u001b[0m \u001b[0my_train\u001b[0m\u001b[0;34m,\u001b[0m \u001b[0;34m**\u001b[0m\u001b[0mfit_params\u001b[0m\u001b[0;34m)\u001b[0m\u001b[0;34m\u001b[0m\u001b[0;34m\u001b[0m\u001b[0m\n\u001b[0m\u001b[1;32m    687\u001b[0m \u001b[0;34m\u001b[0m\u001b[0m\n\u001b[1;32m    688\u001b[0m     \u001b[0;32mexcept\u001b[0m \u001b[0mException\u001b[0m\u001b[0;34m:\u001b[0m\u001b[0;34m\u001b[0m\u001b[0;34m\u001b[0m\u001b[0m\n",
            "\u001b[0;32m/usr/local/lib/python3.9/dist-packages/sklearn/tree/_classes.py\u001b[0m in \u001b[0;36mfit\u001b[0;34m(self, X, y, sample_weight, check_input)\u001b[0m\n\u001b[1;32m    887\u001b[0m         \"\"\"\n\u001b[1;32m    888\u001b[0m \u001b[0;34m\u001b[0m\u001b[0m\n\u001b[0;32m--> 889\u001b[0;31m         super().fit(\n\u001b[0m\u001b[1;32m    890\u001b[0m             \u001b[0mX\u001b[0m\u001b[0;34m,\u001b[0m\u001b[0;34m\u001b[0m\u001b[0;34m\u001b[0m\u001b[0m\n\u001b[1;32m    891\u001b[0m             \u001b[0my\u001b[0m\u001b[0;34m,\u001b[0m\u001b[0;34m\u001b[0m\u001b[0;34m\u001b[0m\u001b[0m\n",
            "\u001b[0;32m/usr/local/lib/python3.9/dist-packages/sklearn/tree/_classes.py\u001b[0m in \u001b[0;36mfit\u001b[0;34m(self, X, y, sample_weight, check_input)\u001b[0m\n\u001b[1;32m    377\u001b[0m             )\n\u001b[1;32m    378\u001b[0m \u001b[0;34m\u001b[0m\u001b[0m\n\u001b[0;32m--> 379\u001b[0;31m         \u001b[0mbuilder\u001b[0m\u001b[0;34m.\u001b[0m\u001b[0mbuild\u001b[0m\u001b[0;34m(\u001b[0m\u001b[0mself\u001b[0m\u001b[0;34m.\u001b[0m\u001b[0mtree_\u001b[0m\u001b[0;34m,\u001b[0m \u001b[0mX\u001b[0m\u001b[0;34m,\u001b[0m \u001b[0my\u001b[0m\u001b[0;34m,\u001b[0m \u001b[0msample_weight\u001b[0m\u001b[0;34m)\u001b[0m\u001b[0;34m\u001b[0m\u001b[0;34m\u001b[0m\u001b[0m\n\u001b[0m\u001b[1;32m    380\u001b[0m \u001b[0;34m\u001b[0m\u001b[0m\n\u001b[1;32m    381\u001b[0m         \u001b[0;32mif\u001b[0m \u001b[0mself\u001b[0m\u001b[0;34m.\u001b[0m\u001b[0mn_outputs_\u001b[0m \u001b[0;34m==\u001b[0m \u001b[0;36m1\u001b[0m \u001b[0;32mand\u001b[0m \u001b[0mis_classifier\u001b[0m\u001b[0;34m(\u001b[0m\u001b[0mself\u001b[0m\u001b[0;34m)\u001b[0m\u001b[0;34m:\u001b[0m\u001b[0;34m\u001b[0m\u001b[0;34m\u001b[0m\u001b[0m\n",
            "\u001b[0;31mKeyboardInterrupt\u001b[0m: "
          ]
        }
      ]
    },
    {
      "cell_type": "code",
      "source": [
        "dtc =  DecisionTreeClassifier(max_features= 5, min_samples_leaf=1, min_samples_split=2)\n",
        "dtc.fit(x_train, y_train)"
      ],
      "metadata": {
        "colab": {
          "base_uri": "https://localhost:8080/",
          "height": 75
        },
        "id": "zM7CBvTO5Y0S",
        "outputId": "22e00945-e153-4f31-c203-0667711415da"
      },
      "execution_count": 93,
      "outputs": [
        {
          "output_type": "execute_result",
          "data": {
            "text/plain": [
              "DecisionTreeClassifier(max_features=5)"
            ],
            "text/html": [
              "<style>#sk-container-id-6 {color: black;background-color: white;}#sk-container-id-6 pre{padding: 0;}#sk-container-id-6 div.sk-toggleable {background-color: white;}#sk-container-id-6 label.sk-toggleable__label {cursor: pointer;display: block;width: 100%;margin-bottom: 0;padding: 0.3em;box-sizing: border-box;text-align: center;}#sk-container-id-6 label.sk-toggleable__label-arrow:before {content: \"▸\";float: left;margin-right: 0.25em;color: #696969;}#sk-container-id-6 label.sk-toggleable__label-arrow:hover:before {color: black;}#sk-container-id-6 div.sk-estimator:hover label.sk-toggleable__label-arrow:before {color: black;}#sk-container-id-6 div.sk-toggleable__content {max-height: 0;max-width: 0;overflow: hidden;text-align: left;background-color: #f0f8ff;}#sk-container-id-6 div.sk-toggleable__content pre {margin: 0.2em;color: black;border-radius: 0.25em;background-color: #f0f8ff;}#sk-container-id-6 input.sk-toggleable__control:checked~div.sk-toggleable__content {max-height: 200px;max-width: 100%;overflow: auto;}#sk-container-id-6 input.sk-toggleable__control:checked~label.sk-toggleable__label-arrow:before {content: \"▾\";}#sk-container-id-6 div.sk-estimator input.sk-toggleable__control:checked~label.sk-toggleable__label {background-color: #d4ebff;}#sk-container-id-6 div.sk-label input.sk-toggleable__control:checked~label.sk-toggleable__label {background-color: #d4ebff;}#sk-container-id-6 input.sk-hidden--visually {border: 0;clip: rect(1px 1px 1px 1px);clip: rect(1px, 1px, 1px, 1px);height: 1px;margin: -1px;overflow: hidden;padding: 0;position: absolute;width: 1px;}#sk-container-id-6 div.sk-estimator {font-family: monospace;background-color: #f0f8ff;border: 1px dotted black;border-radius: 0.25em;box-sizing: border-box;margin-bottom: 0.5em;}#sk-container-id-6 div.sk-estimator:hover {background-color: #d4ebff;}#sk-container-id-6 div.sk-parallel-item::after {content: \"\";width: 100%;border-bottom: 1px solid gray;flex-grow: 1;}#sk-container-id-6 div.sk-label:hover label.sk-toggleable__label {background-color: #d4ebff;}#sk-container-id-6 div.sk-serial::before {content: \"\";position: absolute;border-left: 1px solid gray;box-sizing: border-box;top: 0;bottom: 0;left: 50%;z-index: 0;}#sk-container-id-6 div.sk-serial {display: flex;flex-direction: column;align-items: center;background-color: white;padding-right: 0.2em;padding-left: 0.2em;position: relative;}#sk-container-id-6 div.sk-item {position: relative;z-index: 1;}#sk-container-id-6 div.sk-parallel {display: flex;align-items: stretch;justify-content: center;background-color: white;position: relative;}#sk-container-id-6 div.sk-item::before, #sk-container-id-6 div.sk-parallel-item::before {content: \"\";position: absolute;border-left: 1px solid gray;box-sizing: border-box;top: 0;bottom: 0;left: 50%;z-index: -1;}#sk-container-id-6 div.sk-parallel-item {display: flex;flex-direction: column;z-index: 1;position: relative;background-color: white;}#sk-container-id-6 div.sk-parallel-item:first-child::after {align-self: flex-end;width: 50%;}#sk-container-id-6 div.sk-parallel-item:last-child::after {align-self: flex-start;width: 50%;}#sk-container-id-6 div.sk-parallel-item:only-child::after {width: 0;}#sk-container-id-6 div.sk-dashed-wrapped {border: 1px dashed gray;margin: 0 0.4em 0.5em 0.4em;box-sizing: border-box;padding-bottom: 0.4em;background-color: white;}#sk-container-id-6 div.sk-label label {font-family: monospace;font-weight: bold;display: inline-block;line-height: 1.2em;}#sk-container-id-6 div.sk-label-container {text-align: center;}#sk-container-id-6 div.sk-container {/* jupyter's `normalize.less` sets `[hidden] { display: none; }` but bootstrap.min.css set `[hidden] { display: none !important; }` so we also need the `!important` here to be able to override the default hidden behavior on the sphinx rendered scikit-learn.org. See: https://github.com/scikit-learn/scikit-learn/issues/21755 */display: inline-block !important;position: relative;}#sk-container-id-6 div.sk-text-repr-fallback {display: none;}</style><div id=\"sk-container-id-6\" class=\"sk-top-container\"><div class=\"sk-text-repr-fallback\"><pre>DecisionTreeClassifier(max_features=5)</pre><b>In a Jupyter environment, please rerun this cell to show the HTML representation or trust the notebook. <br />On GitHub, the HTML representation is unable to render, please try loading this page with nbviewer.org.</b></div><div class=\"sk-container\" hidden><div class=\"sk-item\"><div class=\"sk-estimator sk-toggleable\"><input class=\"sk-toggleable__control sk-hidden--visually\" id=\"sk-estimator-id-6\" type=\"checkbox\" checked><label for=\"sk-estimator-id-6\" class=\"sk-toggleable__label sk-toggleable__label-arrow\">DecisionTreeClassifier</label><div class=\"sk-toggleable__content\"><pre>DecisionTreeClassifier(max_features=5)</pre></div></div></div></div></div>"
            ]
          },
          "metadata": {},
          "execution_count": 93
        }
      ]
    },
    {
      "cell_type": "code",
      "source": [
        "#validation set\n",
        "X_val = scaledf4[:,:-1]\n",
        "y_val = scaledf4[:,-1]\n",
        "from sklearn.metrics import accuracy_score\n",
        "y_pred = dtc.predict(X_val)\n",
        "accuracy = accuracy_score(y_val, y_pred)\n",
        "print('Validation accuracy:', accuracy)"
      ],
      "metadata": {
        "colab": {
          "base_uri": "https://localhost:8080/"
        },
        "id": "ralaL3Zd5d4x",
        "outputId": "698924bc-5dbf-4262-fc33-72c5c372b09e"
      },
      "execution_count": 94,
      "outputs": [
        {
          "output_type": "stream",
          "name": "stdout",
          "text": [
            "Validation accuracy: 0.9450627881406609\n"
          ]
        }
      ]
    },
    {
      "cell_type": "code",
      "source": [
        "#test set\n",
        "scaledf5 = ct.transform(df5)\n",
        "X_test = scaledf5[:,:-1]\n",
        "y_test = scaledf5[:,-1]\n",
        "y_pred = dtc.predict(X_test)\n",
        "accuracy = accuracy_score(y_test, y_pred)\n",
        "print('Testing accuracy:', accuracy)"
      ],
      "metadata": {
        "colab": {
          "base_uri": "https://localhost:8080/"
        },
        "id": "krccZMT75iel",
        "outputId": "aa79b726-0026-42e9-cba8-6676ba5c7103"
      },
      "execution_count": 95,
      "outputs": [
        {
          "output_type": "stream",
          "name": "stdout",
          "text": [
            "Testing accuracy: 0.43528186304903155\n"
          ]
        }
      ]
    },
    {
      "cell_type": "code",
      "source": [
        "from sklearn.metrics import accuracy_score, f1_score, precision_score, recall_score, classification_report, confusion_matrix\n",
        "f1score   = f1_score        (y_test, y_pred, average ='weighted')\n",
        "recall    = recall_score    (y_test, y_pred, average = 'weighted')\n",
        "precision = precision_score (y_test, y_pred, average = 'weighted')\n",
        "accuracy  = accuracy_score  (y_test, y_pred)\n",
        "\n",
        "print('acc =', accuracy)\n",
        "print('pre =', precision)\n",
        "print('recall =', recall) \n",
        "print('f1 =', f1score)"
      ],
      "metadata": {
        "colab": {
          "base_uri": "https://localhost:8080/"
        },
        "id": "qwAKqte05-Yv",
        "outputId": "436a9bce-7bb8-4d03-9f6e-b92f54dea52f"
      },
      "execution_count": 96,
      "outputs": [
        {
          "output_type": "stream",
          "name": "stdout",
          "text": [
            "acc = 0.43528186304903155\n",
            "pre = 1.0\n",
            "recall = 0.43528186304903155\n",
            "f1 = 0.6065454796792923\n"
          ]
        },
        {
          "output_type": "stream",
          "name": "stderr",
          "text": [
            "/usr/local/lib/python3.9/dist-packages/sklearn/metrics/_classification.py:1344: UndefinedMetricWarning: Recall is ill-defined and being set to 0.0 in labels with no true samples. Use `zero_division` parameter to control this behavior.\n",
            "  _warn_prf(average, modifier, msg_start, len(result))\n"
          ]
        }
      ]
    },
    {
      "cell_type": "code",
      "source": [
        "plt.plot(y_pred, label = \"y_pred\", linestyle=\"-\", color =\"blue\")\n",
        "plt.plot(y_test, label = \"y_test\",  linestyle=\"--\", color =\"green\")\n",
        "plt.xlabel(\"y_Test\")\n",
        "plt.ylabel(\"label\")"
      ],
      "metadata": {
        "colab": {
          "base_uri": "https://localhost:8080/",
          "height": 467
        },
        "id": "GZlnJuDb6EWf",
        "outputId": "27bca59b-c034-462b-e650-80697de6f076"
      },
      "execution_count": 97,
      "outputs": [
        {
          "output_type": "execute_result",
          "data": {
            "text/plain": [
              "Text(0, 0.5, 'label')"
            ]
          },
          "metadata": {},
          "execution_count": 97
        },
        {
          "output_type": "display_data",
          "data": {
            "text/plain": [
              "<Figure size 640x480 with 1 Axes>"
            ],
            "image/png": "[encoded data removed]"
          },
          "metadata": {}
        }
      ]
    },
    {
      "cell_type": "markdown",
      "source": [
        "Random Forest algorithms"
      ],
      "metadata": {
        "id": "d8CLG4Mc65FD"
      }
    },
    {
      "cell_type": "code",
      "source": [
        "#Grid search cv is taking more than 2 hours to train\n",
        "x_train = training[:,:-1]\n",
        "y_train = training[:,-1]\n",
        "from sklearn.model_selection import GridSearchCV\n",
        "param_grid = {'n_estimators': [10, 50, 100, 200], 'max_depth': [10, 20, 30, None]}\n",
        "rfc = RandomForestClassifier(n_estimators=100)\n",
        "rfc_cv = GridSearchCV(rfc, param_grid, cv=5)\n",
        "rfc_cv.fit(x_train, y_train)\n",
        "print('Best parameters:', rfc_cv.best_params_)\n",
        "#Best parameters: {'max_depth': 10, 'n_estimators': 50}"
      ],
      "metadata": {
        "id": "oyaUZZ9N6K8_"
      },
      "execution_count": null,
      "outputs": []
    },
    {
      "cell_type": "code",
      "source": [
        "from sklearn.ensemble import RandomForestClassifier\n",
        "rfc = RandomForestClassifier(n_estimators=100)\n",
        "rfc.fit(x_train, y_train)"
      ],
      "metadata": {
        "colab": {
          "base_uri": "https://localhost:8080/",
          "height": 75
        },
        "id": "R65HTTfc7UGr",
        "outputId": "ecd5da24-30d5-4a81-cab1-89b688eb7a42"
      },
      "execution_count": 78,
      "outputs": [
        {
          "output_type": "execute_result",
          "data": {
            "text/plain": [
              "RandomForestClassifier()"
            ],
            "text/html": [
              "<style>#sk-container-id-4 {color: black;background-color: white;}#sk-container-id-4 pre{padding: 0;}#sk-container-id-4 div.sk-toggleable {background-color: white;}#sk-container-id-4 label.sk-toggleable__label {cursor: pointer;display: block;width: 100%;margin-bottom: 0;padding: 0.3em;box-sizing: border-box;text-align: center;}#sk-container-id-4 label.sk-toggleable__label-arrow:before {content: \"▸\";float: left;margin-right: 0.25em;color: #696969;}#sk-container-id-4 label.sk-toggleable__label-arrow:hover:before {color: black;}#sk-container-id-4 div.sk-estimator:hover label.sk-toggleable__label-arrow:before {color: black;}#sk-container-id-4 div.sk-toggleable__content {max-height: 0;max-width: 0;overflow: hidden;text-align: left;background-color: #f0f8ff;}#sk-container-id-4 div.sk-toggleable__content pre {margin: 0.2em;color: black;border-radius: 0.25em;background-color: #f0f8ff;}#sk-container-id-4 input.sk-toggleable__control:checked~div.sk-toggleable__content {max-height: 200px;max-width: 100%;overflow: auto;}#sk-container-id-4 input.sk-toggleable__control:checked~label.sk-toggleable__label-arrow:before {content: \"▾\";}#sk-container-id-4 div.sk-estimator input.sk-toggleable__control:checked~label.sk-toggleable__label {background-color: #d4ebff;}#sk-container-id-4 div.sk-label input.sk-toggleable__control:checked~label.sk-toggleable__label {background-color: #d4ebff;}#sk-container-id-4 input.sk-hidden--visually {border: 0;clip: rect(1px 1px 1px 1px);clip: rect(1px, 1px, 1px, 1px);height: 1px;margin: -1px;overflow: hidden;padding: 0;position: absolute;width: 1px;}#sk-container-id-4 div.sk-estimator {font-family: monospace;background-color: #f0f8ff;border: 1px dotted black;border-radius: 0.25em;box-sizing: border-box;margin-bottom: 0.5em;}#sk-container-id-4 div.sk-estimator:hover {background-color: #d4ebff;}#sk-container-id-4 div.sk-parallel-item::after {content: \"\";width: 100%;border-bottom: 1px solid gray;flex-grow: 1;}#sk-container-id-4 div.sk-label:hover label.sk-toggleable__label {background-color: #d4ebff;}#sk-container-id-4 div.sk-serial::before {content: \"\";position: absolute;border-left: 1px solid gray;box-sizing: border-box;top: 0;bottom: 0;left: 50%;z-index: 0;}#sk-container-id-4 div.sk-serial {display: flex;flex-direction: column;align-items: center;background-color: white;padding-right: 0.2em;padding-left: 0.2em;position: relative;}#sk-container-id-4 div.sk-item {position: relative;z-index: 1;}#sk-container-id-4 div.sk-parallel {display: flex;align-items: stretch;justify-content: center;background-color: white;position: relative;}#sk-container-id-4 div.sk-item::before, #sk-container-id-4 div.sk-parallel-item::before {content: \"\";position: absolute;border-left: 1px solid gray;box-sizing: border-box;top: 0;bottom: 0;left: 50%;z-index: -1;}#sk-container-id-4 div.sk-parallel-item {display: flex;flex-direction: column;z-index: 1;position: relative;background-color: white;}#sk-container-id-4 div.sk-parallel-item:first-child::after {align-self: flex-end;width: 50%;}#sk-container-id-4 div.sk-parallel-item:last-child::after {align-self: flex-start;width: 50%;}#sk-container-id-4 div.sk-parallel-item:only-child::after {width: 0;}#sk-container-id-4 div.sk-dashed-wrapped {border: 1px dashed gray;margin: 0 0.4em 0.5em 0.4em;box-sizing: border-box;padding-bottom: 0.4em;background-color: white;}#sk-container-id-4 div.sk-label label {font-family: monospace;font-weight: bold;display: inline-block;line-height: 1.2em;}#sk-container-id-4 div.sk-label-container {text-align: center;}#sk-container-id-4 div.sk-container {/* jupyter's `normalize.less` sets `[hidden] { display: none; }` but bootstrap.min.css set `[hidden] { display: none !important; }` so we also need the `!important` here to be able to override the default hidden behavior on the sphinx rendered scikit-learn.org. See: https://github.com/scikit-learn/scikit-learn/issues/21755 */display: inline-block !important;position: relative;}#sk-container-id-4 div.sk-text-repr-fallback {display: none;}</style><div id=\"sk-container-id-4\" class=\"sk-top-container\"><div class=\"sk-text-repr-fallback\"><pre>RandomForestClassifier()</pre><b>In a Jupyter environment, please rerun this cell to show the HTML representation or trust the notebook. <br />On GitHub, the HTML representation is unable to render, please try loading this page with nbviewer.org.</b></div><div class=\"sk-container\" hidden><div class=\"sk-item\"><div class=\"sk-estimator sk-toggleable\"><input class=\"sk-toggleable__control sk-hidden--visually\" id=\"sk-estimator-id-4\" type=\"checkbox\" checked><label for=\"sk-estimator-id-4\" class=\"sk-toggleable__label sk-toggleable__label-arrow\">RandomForestClassifier</label><div class=\"sk-toggleable__content\"><pre>RandomForestClassifier()</pre></div></div></div></div></div>"
            ]
          },
          "metadata": {},
          "execution_count": 78
        }
      ]
    },
    {
      "cell_type": "code",
      "source": [
        "#validation set\n",
        "X_val = scaledf4[:,:-1]\n",
        "y_val = scaledf4[:,-1]\n",
        "from sklearn.metrics import accuracy_score\n",
        "y_pred = rfc.predict(X_val)\n",
        "accuracy = accuracy_score(y_val, y_pred)\n",
        "print('Validation accuracy:', accuracy)"
      ],
      "metadata": {
        "colab": {
          "base_uri": "https://localhost:8080/"
        },
        "id": "en4fHfbj7WeU",
        "outputId": "9777c60e-07bd-4c75-fce8-cc00575c3a65"
      },
      "execution_count": 80,
      "outputs": [
        {
          "output_type": "stream",
          "name": "stdout",
          "text": [
            "Validation accuracy: 0.23170849327752166\n"
          ]
        }
      ]
    },
    {
      "cell_type": "code",
      "source": [
        "#standarding the test set\n",
        "X_test = scaledf5[:,:-1]\n",
        "y_test = scaledf5[:,-1]\n",
        "y_pred = rfc.predict(X_test)\n",
        "accuracy = accuracy_score(y_test, y_pred)\n",
        "print('Validation accuracy:', accuracy)"
      ],
      "metadata": {
        "colab": {
          "base_uri": "https://localhost:8080/"
        },
        "id": "xkz_cD9y7ovt",
        "outputId": "e7bfb049-d7d6-4de1-f30a-ef54f68aca8e"
      },
      "execution_count": 81,
      "outputs": [
        {
          "output_type": "stream",
          "name": "stdout",
          "text": [
            "Validation accuracy: 0.46871357357208404\n"
          ]
        }
      ]
    },
    {
      "cell_type": "code",
      "source": [
        "from sklearn.metrics import accuracy_score, f1_score, precision_score, recall_score, classification_report, confusion_matrix\n",
        "f1score   = f1_score        (y_test, y_pred, average ='weighted')\n",
        "recall    = recall_score    (y_test, y_pred, average = 'weighted')\n",
        "precision = precision_score (y_test, y_pred, average = 'weighted')\n",
        "accuracy  = accuracy_score  (y_test, y_pred)\n",
        "\n",
        "print('acc =', accuracy)\n",
        "print('pre =', precision)\n",
        "print('recall =', recall) \n",
        "print('f1 =', f1score)"
      ],
      "metadata": {
        "colab": {
          "base_uri": "https://localhost:8080/"
        },
        "id": "euzWN6fj74LV",
        "outputId": "0a733fdb-b4b5-49ad-9c2a-a82d48228a2b"
      },
      "execution_count": 82,
      "outputs": [
        {
          "output_type": "stream",
          "name": "stdout",
          "text": [
            "acc = 0.46871357357208404\n",
            "pre = 1.0\n",
            "recall = 0.46871357357208404\n",
            "f1 = 0.6382640999662277\n"
          ]
        },
        {
          "output_type": "stream",
          "name": "stderr",
          "text": [
            "/usr/local/lib/python3.9/dist-packages/sklearn/metrics/_classification.py:1344: UndefinedMetricWarning: Recall is ill-defined and being set to 0.0 in labels with no true samples. Use `zero_division` parameter to control this behavior.\n",
            "  _warn_prf(average, modifier, msg_start, len(result))\n"
          ]
        }
      ]
    },
    {
      "cell_type": "code",
      "source": [
        "plt.plot(y_pred, label = \"y_pred\", linestyle=\"-\", color =\"blue\")\n",
        "plt.plot(y_test, label = \"y_test\",  linestyle=\"--\", color =\"green\")\n",
        "plt.xlabel(\"y_Test\")\n",
        "plt.ylabel(\"label\")"
      ],
      "metadata": {
        "colab": {
          "base_uri": "https://localhost:8080/",
          "height": 467
        },
        "id": "JsoQdVBO78K1",
        "outputId": "dcf88fba-194b-48da-80f8-0b027d4d5d1d"
      },
      "execution_count": 85,
      "outputs": [
        {
          "output_type": "execute_result",
          "data": {
            "text/plain": [
              "Text(0, 0.5, 'label')"
            ]
          },
          "metadata": {},
          "execution_count": 85
        },
        {
          "output_type": "display_data",
          "data": {
            "text/plain": [
              "<Figure size 640x480 with 1 Axes>"
            ],
            "image/png": "[encoded data removed]"
          },
          "metadata": {}
        }
      ]
    },
    {
      "cell_type": "code",
      "source": [],
      "metadata": {
        "id": "AYSxRV4P8KI3"
      },
      "execution_count": null,
      "outputs": []
    }
  ],
  "metadata": {
    "colab": {
      "machine_shape": "hm",
      "provenance": []
    },
    "gpuClass": "premium",
    "kernelspec": {
      "display_name": "Python 3",
      "name": "python3"
    },
    "language_info": {
      "name": "python"
    }
  },
  "nbformat": 4,
  "nbformat_minor": 0
}